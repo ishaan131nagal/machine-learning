{
 "cells": [
  {
   "cell_type": "code",
   "execution_count": 1,
   "id": "8e8b0b33",
   "metadata": {},
   "outputs": [],
   "source": [
    "import pandas as pd\n",
    "\n",
    "df = pd.read_csv('knn.csv')\n",
    "x1 = df['x1']\n",
    "x2 = df['x2']\n",
    "y = df['y']\n",
    "\n",
    "dis = pd.DataFrame(columns=['distance', 'category'])\n",
    "a = dis['distance']\n",
    "b = dis['category']\n",
    "q=[3,7]\n",
    "for i in range(10):\n",
    "    dist = ((q[0] - x1[i])**2 + (q[1] - x2[i])**2)**0.5\n",
    "    a.loc[i] = dist\n",
    "    b.loc[i] = y[i]\n",
    "\n",
    "dis['distance']=a\n",
    "dis['category']=b\n"
   ]
  },
  {
   "cell_type": "code",
   "execution_count": 2,
   "id": "7b7b0840",
   "metadata": {},
   "outputs": [
    {
     "data": {
      "text/html": [
       "<div>\n",
       "<style scoped>\n",
       "    .dataframe tbody tr th:only-of-type {\n",
       "        vertical-align: middle;\n",
       "    }\n",
       "\n",
       "    .dataframe tbody tr th {\n",
       "        vertical-align: top;\n",
       "    }\n",
       "\n",
       "    .dataframe thead th {\n",
       "        text-align: right;\n",
       "    }\n",
       "</style>\n",
       "<table border=\"1\" class=\"dataframe\">\n",
       "  <thead>\n",
       "    <tr style=\"text-align: right;\">\n",
       "      <th></th>\n",
       "      <th>distance</th>\n",
       "      <th>category</th>\n",
       "    </tr>\n",
       "  </thead>\n",
       "  <tbody>\n",
       "    <tr>\n",
       "      <th>0</th>\n",
       "      <td>4.000000</td>\n",
       "      <td>bad</td>\n",
       "    </tr>\n",
       "    <tr>\n",
       "      <th>1</th>\n",
       "      <td>5.000000</td>\n",
       "      <td>bad</td>\n",
       "    </tr>\n",
       "    <tr>\n",
       "      <th>2</th>\n",
       "      <td>3.000000</td>\n",
       "      <td>good</td>\n",
       "    </tr>\n",
       "    <tr>\n",
       "      <th>3</th>\n",
       "      <td>3.605551</td>\n",
       "      <td>good</td>\n",
       "    </tr>\n",
       "    <tr>\n",
       "      <th>4</th>\n",
       "      <td>2.236068</td>\n",
       "      <td>bad</td>\n",
       "    </tr>\n",
       "    <tr>\n",
       "      <th>5</th>\n",
       "      <td>2.000000</td>\n",
       "      <td>good</td>\n",
       "    </tr>\n",
       "    <tr>\n",
       "      <th>6</th>\n",
       "      <td>1.414214</td>\n",
       "      <td>bad</td>\n",
       "    </tr>\n",
       "    <tr>\n",
       "      <th>7</th>\n",
       "      <td>5.000000</td>\n",
       "      <td>bad</td>\n",
       "    </tr>\n",
       "    <tr>\n",
       "      <th>8</th>\n",
       "      <td>4.472136</td>\n",
       "      <td>good</td>\n",
       "    </tr>\n",
       "    <tr>\n",
       "      <th>9</th>\n",
       "      <td>5.099020</td>\n",
       "      <td>bad</td>\n",
       "    </tr>\n",
       "  </tbody>\n",
       "</table>\n",
       "</div>"
      ],
      "text/plain": [
       "   distance category\n",
       "0  4.000000      bad\n",
       "1  5.000000      bad\n",
       "2  3.000000     good\n",
       "3  3.605551     good\n",
       "4  2.236068      bad\n",
       "5  2.000000     good\n",
       "6  1.414214      bad\n",
       "7  5.000000      bad\n",
       "8  4.472136     good\n",
       "9  5.099020      bad"
      ]
     },
     "execution_count": 2,
     "metadata": {},
     "output_type": "execute_result"
    }
   ],
   "source": [
    "dis"
   ]
  },
  {
   "cell_type": "code",
   "execution_count": 3,
   "id": "b40dd3ac",
   "metadata": {},
   "outputs": [
    {
     "data": {
      "text/html": [
       "<div>\n",
       "<style scoped>\n",
       "    .dataframe tbody tr th:only-of-type {\n",
       "        vertical-align: middle;\n",
       "    }\n",
       "\n",
       "    .dataframe tbody tr th {\n",
       "        vertical-align: top;\n",
       "    }\n",
       "\n",
       "    .dataframe thead th {\n",
       "        text-align: right;\n",
       "    }\n",
       "</style>\n",
       "<table border=\"1\" class=\"dataframe\">\n",
       "  <thead>\n",
       "    <tr style=\"text-align: right;\">\n",
       "      <th></th>\n",
       "      <th>distance</th>\n",
       "      <th>category</th>\n",
       "    </tr>\n",
       "  </thead>\n",
       "  <tbody>\n",
       "    <tr>\n",
       "      <th>6</th>\n",
       "      <td>1.414214</td>\n",
       "      <td>bad</td>\n",
       "    </tr>\n",
       "    <tr>\n",
       "      <th>5</th>\n",
       "      <td>2.000000</td>\n",
       "      <td>good</td>\n",
       "    </tr>\n",
       "    <tr>\n",
       "      <th>4</th>\n",
       "      <td>2.236068</td>\n",
       "      <td>bad</td>\n",
       "    </tr>\n",
       "    <tr>\n",
       "      <th>2</th>\n",
       "      <td>3.000000</td>\n",
       "      <td>good</td>\n",
       "    </tr>\n",
       "    <tr>\n",
       "      <th>3</th>\n",
       "      <td>3.605551</td>\n",
       "      <td>good</td>\n",
       "    </tr>\n",
       "    <tr>\n",
       "      <th>0</th>\n",
       "      <td>4.000000</td>\n",
       "      <td>bad</td>\n",
       "    </tr>\n",
       "    <tr>\n",
       "      <th>8</th>\n",
       "      <td>4.472136</td>\n",
       "      <td>good</td>\n",
       "    </tr>\n",
       "    <tr>\n",
       "      <th>1</th>\n",
       "      <td>5.000000</td>\n",
       "      <td>bad</td>\n",
       "    </tr>\n",
       "    <tr>\n",
       "      <th>7</th>\n",
       "      <td>5.000000</td>\n",
       "      <td>bad</td>\n",
       "    </tr>\n",
       "    <tr>\n",
       "      <th>9</th>\n",
       "      <td>5.099020</td>\n",
       "      <td>bad</td>\n",
       "    </tr>\n",
       "  </tbody>\n",
       "</table>\n",
       "</div>"
      ],
      "text/plain": [
       "   distance category\n",
       "6  1.414214      bad\n",
       "5  2.000000     good\n",
       "4  2.236068      bad\n",
       "2  3.000000     good\n",
       "3  3.605551     good\n",
       "0  4.000000      bad\n",
       "8  4.472136     good\n",
       "1  5.000000      bad\n",
       "7  5.000000      bad\n",
       "9  5.099020      bad"
      ]
     },
     "execution_count": 3,
     "metadata": {},
     "output_type": "execute_result"
    }
   ],
   "source": [
    "dis.sort_values(by='distance')"
   ]
  },
  {
   "cell_type": "code",
   "execution_count": 4,
   "id": "aabb9cdb",
   "metadata": {},
   "outputs": [],
   "source": [
    "dis = dis.reset_index(drop=True)"
   ]
  },
  {
   "cell_type": "code",
   "execution_count": 5,
   "id": "60c1f827",
   "metadata": {},
   "outputs": [
    {
     "data": {
      "text/html": [
       "<div>\n",
       "<style scoped>\n",
       "    .dataframe tbody tr th:only-of-type {\n",
       "        vertical-align: middle;\n",
       "    }\n",
       "\n",
       "    .dataframe tbody tr th {\n",
       "        vertical-align: top;\n",
       "    }\n",
       "\n",
       "    .dataframe thead th {\n",
       "        text-align: right;\n",
       "    }\n",
       "</style>\n",
       "<table border=\"1\" class=\"dataframe\">\n",
       "  <thead>\n",
       "    <tr style=\"text-align: right;\">\n",
       "      <th></th>\n",
       "      <th>distance</th>\n",
       "      <th>category</th>\n",
       "    </tr>\n",
       "  </thead>\n",
       "  <tbody>\n",
       "    <tr>\n",
       "      <th>0</th>\n",
       "      <td>4.000000</td>\n",
       "      <td>bad</td>\n",
       "    </tr>\n",
       "    <tr>\n",
       "      <th>1</th>\n",
       "      <td>5.000000</td>\n",
       "      <td>bad</td>\n",
       "    </tr>\n",
       "    <tr>\n",
       "      <th>2</th>\n",
       "      <td>3.000000</td>\n",
       "      <td>good</td>\n",
       "    </tr>\n",
       "    <tr>\n",
       "      <th>3</th>\n",
       "      <td>3.605551</td>\n",
       "      <td>good</td>\n",
       "    </tr>\n",
       "    <tr>\n",
       "      <th>4</th>\n",
       "      <td>2.236068</td>\n",
       "      <td>bad</td>\n",
       "    </tr>\n",
       "    <tr>\n",
       "      <th>5</th>\n",
       "      <td>2.000000</td>\n",
       "      <td>good</td>\n",
       "    </tr>\n",
       "    <tr>\n",
       "      <th>6</th>\n",
       "      <td>1.414214</td>\n",
       "      <td>bad</td>\n",
       "    </tr>\n",
       "    <tr>\n",
       "      <th>7</th>\n",
       "      <td>5.000000</td>\n",
       "      <td>bad</td>\n",
       "    </tr>\n",
       "    <tr>\n",
       "      <th>8</th>\n",
       "      <td>4.472136</td>\n",
       "      <td>good</td>\n",
       "    </tr>\n",
       "    <tr>\n",
       "      <th>9</th>\n",
       "      <td>5.099020</td>\n",
       "      <td>bad</td>\n",
       "    </tr>\n",
       "  </tbody>\n",
       "</table>\n",
       "</div>"
      ],
      "text/plain": [
       "   distance category\n",
       "0  4.000000      bad\n",
       "1  5.000000      bad\n",
       "2  3.000000     good\n",
       "3  3.605551     good\n",
       "4  2.236068      bad\n",
       "5  2.000000     good\n",
       "6  1.414214      bad\n",
       "7  5.000000      bad\n",
       "8  4.472136     good\n",
       "9  5.099020      bad"
      ]
     },
     "execution_count": 5,
     "metadata": {},
     "output_type": "execute_result"
    }
   ],
   "source": [
    "dis"
   ]
  },
  {
   "cell_type": "code",
   "execution_count": 6,
   "id": "25e66c65",
   "metadata": {},
   "outputs": [
    {
     "name": "stdout",
     "output_type": "stream",
     "text": [
      "category=bad\n"
     ]
    }
   ],
   "source": [
    "#when k=2\n",
    "k=2\n",
    "d=dis['distance']\n",
    "c=dis['category']\n",
    "g=b=0\n",
    "for i in range(k):\n",
    "    if c[i]=='good':\n",
    "        g+=1\n",
    "    else:\n",
    "        b+=1\n",
    "if b>=g:\n",
    "    print('category=bad')\n",
    "elif b>g:\n",
    "    print('category=good')\n",
    "    \n",
    "    "
   ]
  },
  {
   "cell_type": "code",
   "execution_count": 7,
   "id": "15a072f1",
   "metadata": {},
   "outputs": [
    {
     "name": "stdout",
     "output_type": "stream",
     "text": [
      "category=bad\n"
     ]
    }
   ],
   "source": [
    "#when k=2\n",
    "k=3\n",
    "d=dis['distance']\n",
    "c=dis['category']\n",
    "g=b=0\n",
    "for i in range(k):\n",
    "    if c[i]=='good':\n",
    "        g+=1\n",
    "    else:\n",
    "        b+=1\n",
    "if b>=g:\n",
    "    print('category=bad')\n",
    "elif b>g:\n",
    "    print('category=good')\n",
    "    \n",
    "    "
   ]
  },
  {
   "cell_type": "code",
   "execution_count": 8,
   "id": "224a3384",
   "metadata": {},
   "outputs": [
    {
     "name": "stdout",
     "output_type": "stream",
     "text": [
      "category=bad\n"
     ]
    }
   ],
   "source": [
    "#when k=2\n",
    "k=4\n",
    "d=dis['distance']\n",
    "c=dis['category']\n",
    "g=b=0\n",
    "for i in range(k):\n",
    "    if c[i]=='good':\n",
    "        g+=1\n",
    "    else:\n",
    "        b+=1\n",
    "if b>=g:\n",
    "    print('category=bad')\n",
    "elif b>g:\n",
    "    print('category=good')\n",
    "    \n",
    "    "
   ]
  },
  {
   "cell_type": "code",
   "execution_count": 9,
   "id": "91723ec3",
   "metadata": {},
   "outputs": [
    {
     "data": {
      "text/plain": [
       "<matplotlib.collections.PathCollection at 0x7fba59420d00>"
      ]
     },
     "execution_count": 9,
     "metadata": {},
     "output_type": "execute_result"
    },
    {
     "data": {
      "image/png": "[encoded data removed]",
      "text/plain": [
       "<Figure size 432x288 with 1 Axes>"
      ]
     },
     "metadata": {
      "needs_background": "light"
     },
     "output_type": "display_data"
    }
   ],
   "source": [
    "import matplotlib.pyplot as plt\n",
    "colors = ['red' if y == 'bad' else 'green' for y in df['y']]\n",
    "plt.scatter(df['x1'], df['x2'], c=colors, s=100)"
   ]
  },
  {
   "cell_type": "code",
   "execution_count": 10,
   "id": "91b0774a",
   "metadata": {},
   "outputs": [
    {
     "name": "stderr",
     "output_type": "stream",
     "text": [
      "/tmp/ipykernel_4881/841870068.py:2: DeprecationWarning: The default dtype for empty Series will be 'object' instead of 'float64' in a future version. Specify a dtype explicitly to silence this warning.\n",
      "  y_converted = pd.Series()\n"
     ]
    }
   ],
   "source": [
    "def convert_y_to_0_1(y):\n",
    "    y_converted = pd.Series()\n",
    "    for i in range(len(y)):\n",
    "        if y.iloc[i] == 'good':\n",
    "            y_converted.loc[i] = 0\n",
    "        else:\n",
    "            y_converted.loc[i] = 1\n",
    "\n",
    "    return y_converted\n",
    "df['y'] = convert_y_to_0_1(df['y'])\n",
    "y_train=df['y']"
   ]
  },
  {
   "cell_type": "code",
   "execution_count": 11,
   "id": "a8ea1644",
   "metadata": {},
   "outputs": [
    {
     "name": "stdout",
     "output_type": "stream",
     "text": [
      "bad\n"
     ]
    }
   ],
   "source": [
    "from sklearn.neighbors import KNeighborsClassifier\n",
    "X_train=df[['x1','x2']].to_numpy().reshape(-1,2)\n",
    "knn = KNeighborsClassifier(n_neighbors=3)\n",
    "knn.fit(X_train, y_train)\n",
    "x_new=[[3,7]]\n",
    "predicted_class = knn.predict(x_new)\n",
    "if predicted_class[0]==1 :\n",
    "    print('bad')\n",
    "else:\n",
    "    print('good')"
   ]
  },
  {
   "cell_type": "code",
   "execution_count": 24,
   "id": "001d9700",
   "metadata": {},
   "outputs": [
    {
     "data": {
      "image/png": "[encoded data removed]",
      "text/plain": [
       "<Figure size 432x288 with 1 Axes>"
      ]
     },
     "metadata": {
      "needs_background": "light"
     },
     "output_type": "display_data"
    }
   ],
   "source": [
    "import matplotlib.pyplot as plt\n",
    "import numpy as np\n",
    "from sklearn.neighbors import KNeighborsClassifier\n",
    "\n",
    "# Create a KNeighborsClassifier object.\n",
    "knn = KNeighborsClassifier(n_neighbors=3)\n",
    "\n",
    "# Fit the KNeighborsClassifier object to the training data.\n",
    "knn.fit(X_train, y_train)\n",
    "\n",
    "# Calculate the decision boundary.\n",
    "decision_boundary_x = np.linspace(0, 10, 100).reshape(-1, 1)  # Reshape to a column vector\n",
    "decision_boundary_y = knn.predict(np.c_[decision_boundary_x, np.full_like(decision_boundary_x, 7)])\n",
    "plt.scatter(X_train[:, 0], X_train[:, 1], c=y_train, s=100)\n",
    "\n",
    "\n",
    "plt.plot(decision_boundary_x, decision_boundary_y, c='black')\n",
    "\n",
    "plt.xlabel('Acid Durability (seconds)')\n",
    "plt.ylabel('Strength (kg/square meter)')\n",
    "\n",
    "plt.title('K-nearest Neighbor Algorithm with scikit-learn')\n",
    "\n",
    "plt.show()\n"
   ]
  },
  {
   "cell_type": "code",
   "execution_count": null,
   "id": "1926c017",
   "metadata": {},
   "outputs": [],
   "source": []
  }
 ],
 "metadata": {
  "kernelspec": {
   "display_name": "Python 3 (ipykernel)",
   "language": "python",
   "name": "python3"
  },
  "language_info": {
   "codemirror_mode": {
    "name": "ipython",
    "version": 3
   },
   "file_extension": ".py",
   "mimetype": "text/x-python",
   "name": "python",
   "nbconvert_exporter": "python",
   "pygments_lexer": "ipython3",
   "version": "3.10.12"
  }
 },
 "nbformat": 4,
 "nbformat_minor": 5
}
