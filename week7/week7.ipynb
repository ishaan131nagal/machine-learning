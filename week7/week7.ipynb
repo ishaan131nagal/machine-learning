{
 "cells": [
  {
   "cell_type": "code",
   "execution_count": null,
   "id": "9b212b5c",
   "metadata": {},
   "outputs": [],
   "source": [
    "#QUESTION 1"
   ]
  },
  {
   "cell_type": "code",
   "execution_count": 5,
   "id": "190440f2",
   "metadata": {},
   "outputs": [
    {
     "data": {
      "text/html": [
       "<div>\n",
       "<style scoped>\n",
       "    .dataframe tbody tr th:only-of-type {\n",
       "        vertical-align: middle;\n",
       "    }\n",
       "\n",
       "    .dataframe tbody tr th {\n",
       "        vertical-align: top;\n",
       "    }\n",
       "\n",
       "    .dataframe thead th {\n",
       "        text-align: right;\n",
       "    }\n",
       "</style>\n",
       "<table border=\"1\" class=\"dataframe\">\n",
       "  <thead>\n",
       "    <tr style=\"text-align: right;\">\n",
       "      <th></th>\n",
       "      <th>x1</th>\n",
       "      <th>x2</th>\n",
       "      <th>y</th>\n",
       "    </tr>\n",
       "  </thead>\n",
       "  <tbody>\n",
       "    <tr>\n",
       "      <th>0</th>\n",
       "      <td>2.781084</td>\n",
       "      <td>2.550537</td>\n",
       "      <td>0</td>\n",
       "    </tr>\n",
       "    <tr>\n",
       "      <th>1</th>\n",
       "      <td>1.465489</td>\n",
       "      <td>2.362125</td>\n",
       "      <td>0</td>\n",
       "    </tr>\n",
       "    <tr>\n",
       "      <th>2</th>\n",
       "      <td>3.396562</td>\n",
       "      <td>4.400294</td>\n",
       "      <td>0</td>\n",
       "    </tr>\n",
       "    <tr>\n",
       "      <th>3</th>\n",
       "      <td>1.388070</td>\n",
       "      <td>1.850220</td>\n",
       "      <td>0</td>\n",
       "    </tr>\n",
       "    <tr>\n",
       "      <th>4</th>\n",
       "      <td>3.064072</td>\n",
       "      <td>3.005306</td>\n",
       "      <td>0</td>\n",
       "    </tr>\n",
       "    <tr>\n",
       "      <th>5</th>\n",
       "      <td>7.627531</td>\n",
       "      <td>2.759262</td>\n",
       "      <td>1</td>\n",
       "    </tr>\n",
       "    <tr>\n",
       "      <th>6</th>\n",
       "      <td>5.332441</td>\n",
       "      <td>2.088627</td>\n",
       "      <td>1</td>\n",
       "    </tr>\n",
       "    <tr>\n",
       "      <th>7</th>\n",
       "      <td>6.922597</td>\n",
       "      <td>1.771064</td>\n",
       "      <td>1</td>\n",
       "    </tr>\n",
       "    <tr>\n",
       "      <th>8</th>\n",
       "      <td>8.675419</td>\n",
       "      <td>-0.242070</td>\n",
       "      <td>1</td>\n",
       "    </tr>\n",
       "    <tr>\n",
       "      <th>9</th>\n",
       "      <td>7.673756</td>\n",
       "      <td>3.508563</td>\n",
       "      <td>1</td>\n",
       "    </tr>\n",
       "  </tbody>\n",
       "</table>\n",
       "</div>"
      ],
      "text/plain": [
       "         x1        x2  y\n",
       "0  2.781084  2.550537  0\n",
       "1  1.465489  2.362125  0\n",
       "2  3.396562  4.400294  0\n",
       "3  1.388070  1.850220  0\n",
       "4  3.064072  3.005306  0\n",
       "5  7.627531  2.759262  1\n",
       "6  5.332441  2.088627  1\n",
       "7  6.922597  1.771064  1\n",
       "8  8.675419 -0.242070  1\n",
       "9  7.673756  3.508563  1"
      ]
     },
     "execution_count": 5,
     "metadata": {},
     "output_type": "execute_result"
    }
   ],
   "source": [
    "import numpy as np\n",
    "import pandas as pd\n",
    "import math\n",
    "x1=[2.781084,\n",
    "1.465489,\n",
    "3.396562,\n",
    "1.38807,\n",
    "3.064072,\n",
    "7.627531,\n",
    "5.332441,\n",
    "6.922597,\n",
    "8.675419,\n",
    "7.673756]\n",
    "x2=[2.550537,\n",
    "2.362125,\n",
    "4.400294,\n",
    "1.85022,\n",
    "3.005306,\n",
    "2.759262,\n",
    "2.088627,\n",
    "1.771064,\n",
    "-0.24207,\n",
    "3.508563]\n",
    "y=[0,\n",
    "0,\n",
    "0,\n",
    "0,\n",
    "0,\n",
    "1,\n",
    "1,\n",
    "1,\n",
    "1,\n",
    "1]\n",
    "df=pd.DataFrame({'x1':x1,'x2':x2,'y':y})\n",
    "df"
   ]
  },
  {
   "cell_type": "code",
   "execution_count": 8,
   "id": "bb230d67",
   "metadata": {},
   "outputs": [
    {
     "name": "stdout",
     "output_type": "stream",
     "text": [
      "Intercept (B0): -4.551633521124653\n",
      "Coefficient for X1 (B1): 1.183834155636202\n",
      "Coefficient for X2 (B2): -0.35803502860018704\n"
     ]
    }
   ],
   "source": [
    "from sklearn.linear_model import LogisticRegression\n",
    "X = df[['x1', 'x2']]\n",
    "Y = df['y']\n",
    "model = LogisticRegression()\n",
    "model.fit(X, Y)\n",
    "b0 = model.intercept_[0]\n",
    "b1, b2 = model.coef_[0]\n",
    "print(f'Intercept (B0): {B0}')\n",
    "print(f'Coefficient for X1 (B1): {B1}')\n",
    "print(f'Coefficient for X2 (B2): {B2}')\n"
   ]
  },
  {
   "cell_type": "code",
   "execution_count": 70,
   "id": "eda305a7",
   "metadata": {},
   "outputs": [],
   "source": [
    "prediction=[0,0,0,0,0,0,0,0,0,0]\n",
    "pred=[0]*10\n",
    "loss=[0]*10\n",
    "for i in range (10):\n",
    "    prediction[i] = 1 / (1 + math.exp((-(b0 + b1*x1[i] + b2*x2[i]))))\n",
    "    if (prediction[i]>=0.5):\n",
    "        pred[i]=1\n",
    "    else:\n",
    "        pred[i]=0  \n",
    "    log_loss = -np.mean(y[i] * np.log(prediction[i]) + (1 - y[i]) * np.log(1 - prediction[i]))\n",
    "    loss[i]=y[i] * np.log(prediction[i]) + (1 - y[i]) * np.log(1 - prediction[i])"
   ]
  },
  {
   "cell_type": "code",
   "execution_count": 71,
   "id": "448b07b3",
   "metadata": {},
   "outputs": [
    {
     "data": {
      "text/plain": [
       "0.0370599036730744"
      ]
     },
     "execution_count": 71,
     "metadata": {},
     "output_type": "execute_result"
    }
   ],
   "source": [
    "y1=Y.to_numpy()\n",
    "log_loss"
   ]
  },
  {
   "cell_type": "code",
   "execution_count": 72,
   "id": "d793ff4e",
   "metadata": {},
   "outputs": [
    {
     "name": "stdout",
     "output_type": "stream",
     "text": [
      "Confusion Matrix:\n",
      "[[5 0]\n",
      " [0 5]]\n",
      "\n",
      "Classification Report:\n",
      "              precision    recall  f1-score   support\n",
      "\n",
      "           0       1.00      1.00      1.00         5\n",
      "           1       1.00      1.00      1.00         5\n",
      "\n",
      "    accuracy                           1.00        10\n",
      "   macro avg       1.00      1.00      1.00        10\n",
      "weighted avg       1.00      1.00      1.00        10\n",
      "\n"
     ]
    }
   ],
   "source": [
    "from sklearn.metrics import classification_report, confusion_matrix\n",
    "print(\"Confusion Matrix:\")\n",
    "print(confusion_matrix(y1, pred))\n",
    "print(\"\\nClassification Report:\")\n",
    "print(classification_report(y1, pred))"
   ]
  },
  {
   "cell_type": "code",
   "execution_count": 73,
   "id": "f5a66fdb",
   "metadata": {},
   "outputs": [
    {
     "data": {
      "text/plain": [
       "[-0.10786343710322566,\n",
       " -0.02534533690103821,\n",
       " -0.11485292988795857,\n",
       " -0.027743977869036908,\n",
       " -0.1268940124592168,\n",
       " -0.030039470330351387,\n",
       " -0.3097046132086544,\n",
       " -0.04814023426500874,\n",
       " -0.003007045497936586,\n",
       " -0.0370599036730744]"
      ]
     },
     "execution_count": 73,
     "metadata": {},
     "output_type": "execute_result"
    }
   ],
   "source": [
    "loss"
   ]
  },
  {
   "cell_type": "code",
   "execution_count": 74,
   "id": "32b4f287",
   "metadata": {},
   "outputs": [],
   "source": [
    "beta = [x / 10 for x in range(1, 11)]"
   ]
  },
  {
   "cell_type": "code",
   "execution_count": 75,
   "id": "bbfe496f",
   "metadata": {},
   "outputs": [
    {
     "data": {
      "text/plain": [
       "[0.1022498125742718,\n",
       " 0.02502684032438537,\n",
       " 0.10850275313408725,\n",
       " 0.027362648385509735,\n",
       " 0.11917297565982612,\n",
       " 0.970407230498633,\n",
       " 0.7336636387683158,\n",
       " 0.9530001344329782,\n",
       " 0.9969974711350023,\n",
       " 0.9636184093379092]"
      ]
     },
     "execution_count": 75,
     "metadata": {},
     "output_type": "execute_result"
    }
   ],
   "source": [
    "prediction"
   ]
  },
  {
   "cell_type": "code",
   "execution_count": 84,
   "id": "9be550a0",
   "metadata": {},
   "outputs": [
    {
     "data": {
      "image/png": "[encoded data removed]",
      "text/plain": [
       "<Figure size 432x288 with 1 Axes>"
      ]
     },
     "metadata": {
      "needs_background": "light"
     },
     "output_type": "display_data"
    },
    {
     "data": {
      "image/png": "[encoded data removed]",
      "text/plain": [
       "<Figure size 432x288 with 1 Axes>"
      ]
     },
     "metadata": {
      "needs_background": "light"
     },
     "output_type": "display_data"
    }
   ],
   "source": [
    "parameters_and_errors = []\n",
    "for i in range(len(df)):\n",
    "    instance = df.iloc[i]\n",
    "    X1_value = instance['x1']\n",
    "    X2_value = instance['x2']\n",
    "    Y_value = instance['y']\n",
    "    predictions = prediction[i]\n",
    "    error = - (Y_value * np.log(predictions) + (1 - Y_value) * np.log(1 - predictions))\n",
    "    parameters_and_errors.append((X1_value, X2_value, B0, B1, B2, predictions, error))\n",
    "\n",
    "# For example, to plot B1 vs. Error\n",
    "B1_values = [item[3] for item in parameters_and_errors]\n",
    "errors = [item[6] for item in parameters_and_errors]\n",
    "B2_values = [item[4]for item in parameters_and_errors]\n",
    "plt.plot(B1_values, errors)\n",
    "plt.xlabel('B1')\n",
    "plt.ylabel('Error')\n",
    "plt.title('B1 vs. Error')\n",
    "plt.show()\n",
    "plt.plot(B2_values, errors)\n",
    "plt.xlabel('B2')\n",
    "plt.ylabel('Error')\n",
    "plt.title('B2 vs error')\n",
    "plt.show()\n"
   ]
  },
  {
   "cell_type": "code",
   "execution_count": null,
   "id": "2239d77d",
   "metadata": {},
   "outputs": [],
   "source": [
    "#QUESTION 2"
   ]
  },
  {
   "cell_type": "code",
   "execution_count": 95,
   "id": "56f2c5ff",
   "metadata": {},
   "outputs": [
    {
     "name": "stdout",
     "output_type": "stream",
     "text": [
      "Intercept (B0): -4.551633521124653\n",
      "Coefficient for X1 (B1): 1.183834155636202\n",
      "prediction\n",
      " [0.09011843087420256, 0.019369574767893347, 0.17394784416907869, 0.01764723237807845, 0.12288607383137673, 0.974100253490875, 0.6930840238300584, 0.9406635985967389, 0.9926923584787827, 0.9754917334436186]\n",
      "pred\n",
      " [0, 0, 0, 0, 0, 1, 1, 1, 1, 1]\n",
      "loss\n",
      " 0.02481359312851262\n",
      "Confusion Matrix:\n",
      "[[5 0]\n",
      " [0 5]]\n",
      "\n",
      "Classification Report:\n",
      "              precision    recall  f1-score   support\n",
      "\n",
      "           0       1.00      1.00      1.00         5\n",
      "           1       1.00      1.00      1.00         5\n",
      "\n",
      "    accuracy                           1.00        10\n",
      "   macro avg       1.00      1.00      1.00        10\n",
      "weighted avg       1.00      1.00      1.00        10\n",
      "\n"
     ]
    },
    {
     "data": {
      "image/png": "[encoded data removed]",
      "text/plain": [
       "<Figure size 432x288 with 1 Axes>"
      ]
     },
     "metadata": {
      "needs_background": "light"
     },
     "output_type": "display_data"
    }
   ],
   "source": [
    "from sklearn.linear_model import LogisticRegression\n",
    "X = df['x1'].to_numpy().reshape(-1,1)\n",
    "Y = df['y'].to_numpy()\n",
    "\n",
    "model = LogisticRegression()\n",
    "model.fit(X, Y)\n",
    "b0 = model.intercept_[0]\n",
    "b1= model.coef_[0]\n",
    "print(f'Intercept (B0): {B0}')\n",
    "print(f'Coefficient for X1 (B1): {B1}')\n",
    "prediction=[0,0,0,0,0,0,0,0,0,0]\n",
    "pred=[0]*10\n",
    "loss=[0]*10\n",
    "for i in range (10):\n",
    "    prediction[i] = 1 / (1 + math.exp((-(b0 + b1*x1[i] ))))\n",
    "    if (prediction[i]>=0.5):\n",
    "        pred[i]=1\n",
    "    else:\n",
    "        pred[i]=0  \n",
    "    log_loss = -np.mean(y[i] * np.log(prediction[i]) + (1 - y[i]) * np.log(1 - prediction[i]))\n",
    "    loss[i]=y[i] * np.log(prediction[i]) + (1 - y[i]) * np.log(1 - prediction[i])\n",
    "print('prediction\\n',prediction)\n",
    "print('pred\\n',pred)\n",
    "print('loss\\n',log_loss)\n",
    "print(\"Confusion Matrix:\")\n",
    "print(confusion_matrix(Y, pred))\n",
    "print(\"\\nClassification Report:\")\n",
    "print(classification_report(Y, pred))\n",
    "parameters_and_errors = []\n",
    "for i in range(len(df)):\n",
    "    instance = df.iloc[i]\n",
    "    X1_value = instance['x1']\n",
    "    Y_value = instance['y']\n",
    "    predictions = prediction[i]\n",
    "    error = - (Y_value * np.log(predictions) + (1 - Y_value) * np.log(1 - predictions))\n",
    "    parameters_and_errors.append((X1_value, X2_value, B0, B1, B2, predictions, error))\n",
    "\n",
    "# For example, to plot B1 vs. Error\n",
    "B1_values = [item[3] for item in parameters_and_errors]\n",
    "errors = [item[6] for item in parameters_and_errors]\n",
    "plt.plot(B1_values, errors)\n",
    "plt.xlabel('B1')\n",
    "plt.ylabel('Error')\n",
    "plt.title('B1 vs. Error')\n",
    "plt.show()"
   ]
  },
  {
   "cell_type": "code",
   "execution_count": 99,
   "id": "a8a9cd94",
   "metadata": {},
   "outputs": [
    {
     "name": "stderr",
     "output_type": "stream",
     "text": [
      "/tmp/ipykernel_4334/2533538379.py:2: RuntimeWarning: divide by zero encountered in log\n",
      "  yab = -np.log(1-xab) #Plotting a vertical line at x=0:\n"
     ]
    },
    {
     "data": {
      "image/png": "[encoded data removed]",
      "text/plain": [
       "<Figure size 432x288 with 1 Axes>"
      ]
     },
     "metadata": {
      "needs_background": "light"
     },
     "output_type": "display_data"
    }
   ],
   "source": [
    "xab= np.linspace(0,1,100) \n",
    "yab = -np.log(1-xab) \n",
    "plt.plot(xab,yab,label=\"-log(1-X)\")\n",
    "plt.xlabel(\"x\") \n",
    "plt.ylabel(\"-log(1-x)\") \n",
    "plt.legend() \n",
    "plt.grid() \n",
    "plt.show()"
   ]
  },
  {
   "cell_type": "code",
   "execution_count": 100,
   "id": "b1d2c4e1",
   "metadata": {},
   "outputs": [
    {
     "name": "stderr",
     "output_type": "stream",
     "text": [
      "/tmp/ipykernel_4334/1519483183.py:2: RuntimeWarning: divide by zero encountered in log\n",
      "  yab = -np.log(xab) #Plotting a vertical line at x=0:\n"
     ]
    },
    {
     "data": {
      "image/png": "[encoded data removed]",
      "text/plain": [
       "<Figure size 432x288 with 1 Axes>"
      ]
     },
     "metadata": {
      "needs_background": "light"
     },
     "output_type": "display_data"
    }
   ],
   "source": [
    "xab= np.linspace(0,1,100) \n",
    "yab = -np.log(xab) \n",
    "plt.plot(xab,yab,label=\"-log(X)\")\n",
    "plt.xlabel(\"x\") \n",
    "plt.ylabel(\"-log(1-x)\") \n",
    "plt.legend() \n",
    "plt.grid() \n",
    "plt.show()"
   ]
  },
  {
   "cell_type": "code",
   "execution_count": 101,
   "id": "a8699074",
   "metadata": {},
   "outputs": [
    {
     "name": "stderr",
     "output_type": "stream",
     "text": [
      "/tmp/ipykernel_4334/2108430089.py:2: RuntimeWarning: divide by zero encountered in log\n",
      "  yab = -np.log(1-xab)\n",
      "/tmp/ipykernel_4334/2108430089.py:3: RuntimeWarning: divide by zero encountered in log\n",
      "  zab= -np.log(xab)\n"
     ]
    },
    {
     "data": {
      "image/png": "[encoded data removed]",
      "text/plain": [
       "<Figure size 432x288 with 1 Axes>"
      ]
     },
     "metadata": {
      "needs_background": "light"
     },
     "output_type": "display_data"
    }
   ],
   "source": [
    "xab= np.linspace(0,1,100) \n",
    "yab = -np.log(1-xab) \n",
    "zab= -np.log(xab) \n",
    "plt.plot(xab,yab,label=\"-log(1-X)\")\n",
    "plt.plot(xab,zab,label=\"-log(X)\")\n",
    "plt.xlabel(\"x\") \n",
    "plt.ylabel(\"y\") \n",
    "plt.legend() \n",
    "plt.grid() \n",
    "plt.show()"
   ]
  },
  {
   "cell_type": "code",
   "execution_count": 102,
   "id": "280b54a1",
   "metadata": {},
   "outputs": [],
   "source": [
    "#QUESTION3"
   ]
  },
  {
   "cell_type": "code",
   "execution_count": 117,
   "id": "5f42806e",
   "metadata": {},
   "outputs": [
    {
     "name": "stdout",
     "output_type": "stream",
     "text": [
      "Intercept (B0): -0.044714801992765146\n",
      "Coefficient for X1 (B1): 0.26989951542847923\n",
      "Coefficient for X2 (B2): -0.1837374418033998\n",
      "prediction\n",
      " [0.5590406  0.47921428 0.51587388 0.4974925  0.55726994 0.81861208\n",
      " 0.73316679 0.8173178  0.91223653 0.79927573]\n",
      "errors\n",
      " [-0.5590406  -0.47921428 -0.51587388 -0.4974925  -0.55726994  0.18138792\n",
      "  0.26683321  0.1826822   0.08776347  0.20072427]\n",
      "prediction in 0,1\n",
      " [1, 0, 1, 0, 1, 1, 1, 1, 1, 1]\n",
      "Confusion Matrix:\n",
      "[[2 3]\n",
      " [0 5]]\n",
      "\n",
      "Classification Report:\n",
      "              precision    recall  f1-score   support\n",
      "\n",
      "           0       1.00      0.40      0.57         5\n",
      "           1       0.62      1.00      0.77         5\n",
      "\n",
      "    accuracy                           0.70        10\n",
      "   macro avg       0.81      0.70      0.67        10\n",
      "weighted avg       0.81      0.70      0.67        10\n",
      "\n"
     ]
    }
   ],
   "source": [
    "import numpy as np\n",
    "def sigmoid(z):\n",
    "    return 1 / (1 + np.exp(-z))\n",
    "\n",
    "B0 = 0\n",
    "B1 = 0\n",
    "B2 = 0\n",
    "\n",
    "learning_rate = 0.01\n",
    "\n",
    "for iteration in range(5):\n",
    "    for i in range(10):\n",
    "        z = B0 + B1*x1[i] + B2*x2[i]\n",
    "        prediction = sigmoid(z)\n",
    "        error = y[i] - prediction\n",
    "        B0 += learning_rate * error\n",
    "        B1 += learning_rate * error * x1[i]\n",
    "        B2 += learning_rate * error * x2[i]\n",
    "xq3=df['x1']\n",
    "x2q3=df['x2']\n",
    "yq3=df['y']\n",
    "xq3=xq3.to_numpy()\n",
    "x2q3=x2q3.to_numpy()\n",
    "yq3=yq3.to_numpy()\n",
    "predq4=[0]*10\n",
    "print(f'Intercept (B0): {B0}')\n",
    "print(f'Coefficient for X1 (B1): {B1}')\n",
    "print(f'Coefficient for X2 (B2): {B2}')\n",
    "zq3=B0 + B1*xq3 + B2*x2q3\n",
    "predq3=1 / (1 + np.exp(-zq3))\n",
    "print(\"prediction\\n\",predq3)\n",
    "errorq3 = yq3 - predq3\n",
    "print(\"errors\\n\",errorq3)\n",
    "for i in range (10):\n",
    "    if (predq3[i]>=0.5):\n",
    "        predq4[i]=1\n",
    "    else:\n",
    "        predq4[i]=0 \n",
    "print('prediction in 0,1\\n',predq4)\n",
    "print(\"Confusion Matrix:\")\n",
    "print(confusion_matrix(y, predq4))\n",
    "print(\"\\nClassification Report:\")\n",
    "print(classification_report(y, predq4))"
   ]
  },
  {
   "cell_type": "code",
   "execution_count": null,
   "id": "445f1210",
   "metadata": {},
   "outputs": [],
   "source": []
  },
  {
   "cell_type": "code",
   "execution_count": 124,
   "id": "4e38e99f",
   "metadata": {},
   "outputs": [
    {
     "name": "stdout",
     "output_type": "stream",
     "text": [
      "\n",
      "Scikit-learn Logistic Regression:\n",
      "B0: -2.1286165479492443\n",
      "B1: 1.151064643003772\n",
      "B2: -0.8996873324492398\n",
      "Accuracy: 1.0\n"
     ]
    },
    {
     "name": "stderr",
     "output_type": "stream",
     "text": [
      "/usr/lib/python3/dist-packages/sklearn/linear_model/_logistic.py:762: ConvergenceWarning: lbfgs failed to converge (status=1):\n",
      "STOP: TOTAL NO. of ITERATIONS REACHED LIMIT.\n",
      "\n",
      "Increase the number of iterations (max_iter) or scale the data as shown in:\n",
      "    https://scikit-learn.org/stable/modules/preprocessing.html\n",
      "Please also refer to the documentation for alternative solver options:\n",
      "    https://scikit-learn.org/stable/modules/linear_model.html#logistic-regression\n",
      "  n_iter_i = _check_optimize_result(\n"
     ]
    }
   ],
   "source": [
    "#e Using scikit-learn for comparison\n",
    "clf = LogisticRegression(max_iter=num_epochs * int(10 / batch_size))\n",
    "clf.fit(X, Y)\n",
    "sklearn_accuracy = clf.score(X, Y)\n",
    "print(\"\\nScikit-learn Logistic Regression:\")\n",
    "print(\"B0:\", clf.intercept_[0])\n",
    "print(\"B1:\", clf.coef_[0][0])\n",
    "print(\"B2:\", clf.coef_[0][1])\n",
    "print(\"Accuracy:\", sklearn_accuracy)\n"
   ]
  },
  {
   "cell_type": "code",
   "execution_count": null,
   "id": "ea796f62",
   "metadata": {},
   "outputs": [],
   "source": []
  }
 ],
 "metadata": {
  "kernelspec": {
   "display_name": "Python 3 (ipykernel)",
   "language": "python",
   "name": "python3"
  },
  "language_info": {
   "codemirror_mode": {
    "name": "ipython",
    "version": 3
   },
   "file_extension": ".py",
   "mimetype": "text/x-python",
   "name": "python",
   "nbconvert_exporter": "python",
   "pygments_lexer": "ipython3",
   "version": "3.10.12"
  }
 },
 "nbformat": 4,
 "nbformat_minor": 5
}
