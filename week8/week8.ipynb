{
 "cells": [
  {
   "cell_type": "markdown",
   "id": "d1c095ae",
   "metadata": {},
   "source": [
    "# Question1a"
   ]
  },
  {
   "cell_type": "code",
   "execution_count": 3,
   "id": "a3f2f258",
   "metadata": {},
   "outputs": [
    {
     "name": "stdout",
     "output_type": "stream",
     "text": [
      "probabality= 0.6923076923076923\n"
     ]
    }
   ],
   "source": [
    "def bayes(ph ,pah):\n",
    "    return ph*pah\n",
    "ph=0.6\n",
    "phn=0.4\n",
    "pah=0.3\n",
    "pahn=0.2\n",
    "numerator=bayes(ph,pah)\n",
    "denominator=bayes(phn,pahn)\n",
    "print(\"probabality=\",numerator/(denominator+numerator))"
   ]
  },
  {
   "cell_type": "markdown",
   "id": "c3a1697f",
   "metadata": {},
   "source": [
    "# Question1b\n",
    "Suppose you're testing for a rare disease, and you have the following information:\n",
    "• The disease has a prevalence of 0.01 (1% of the population has the disease).\n",
    "• The test is not perfect:\n",
    "• The test correctly identifies the disease (true positive) 99% of the time (sensitivity).\n",
    "• The test incorrectly indicates the disease (false positive) 2% of the time (1 - specificity).\n",
    "Calculate the probability of having the disease given a positive test result using Bayes' theorem."
   ]
  },
  {
   "cell_type": "code",
   "execution_count": 7,
   "id": "a187cdcf",
   "metadata": {},
   "outputs": [
    {
     "name": "stdout",
     "output_type": "stream",
     "text": [
      "probabality= 0.3333333333333333\n"
     ]
    }
   ],
   "source": [
    "def bayes(ph ,pah):\n",
    "    return ph*pah\n",
    "pd=0.01\n",
    "pnd=0.99\n",
    "pca=0.99\n",
    "pincnd=0.02\n",
    "numerator=bayes(pd,pca)\n",
    "denominator=bayes(pnd,pincnd)\n",
    "print(\"probabality=\",numerator/(denominator+numerator))"
   ]
  },
  {
   "cell_type": "markdown",
   "id": "38656ad5",
   "metadata": {},
   "source": [
    "# Question2\n",
    "Write a program to implement the naïve Bayesian classifier without using scikit-learn library for the\n",
    "following sample training data set stored as a .CSV file. Calculate the accuracy, precision, and recall for your\n",
    "train/test data set. To classify ‘If the weather is sunny, then the Player should play or not’?"
   ]
  },
  {
   "cell_type": "code",
   "execution_count": 11,
   "id": "ac2836c5",
   "metadata": {},
   "outputs": [
    {
     "data": {
      "text/html": [
       "<div>\n",
       "<style scoped>\n",
       "    .dataframe tbody tr th:only-of-type {\n",
       "        vertical-align: middle;\n",
       "    }\n",
       "\n",
       "    .dataframe tbody tr th {\n",
       "        vertical-align: top;\n",
       "    }\n",
       "\n",
       "    .dataframe thead th {\n",
       "        text-align: right;\n",
       "    }\n",
       "</style>\n",
       "<table border=\"1\" class=\"dataframe\">\n",
       "  <thead>\n",
       "    <tr style=\"text-align: right;\">\n",
       "      <th></th>\n",
       "      <th>Outlook</th>\n",
       "      <th>Play</th>\n",
       "    </tr>\n",
       "  </thead>\n",
       "  <tbody>\n",
       "    <tr>\n",
       "      <th>0</th>\n",
       "      <td>Rainy</td>\n",
       "      <td>Yes</td>\n",
       "    </tr>\n",
       "    <tr>\n",
       "      <th>1</th>\n",
       "      <td>Sunny</td>\n",
       "      <td>Yes</td>\n",
       "    </tr>\n",
       "    <tr>\n",
       "      <th>2</th>\n",
       "      <td>Overcast</td>\n",
       "      <td>Yes</td>\n",
       "    </tr>\n",
       "    <tr>\n",
       "      <th>3</th>\n",
       "      <td>Overcast</td>\n",
       "      <td>Yes</td>\n",
       "    </tr>\n",
       "    <tr>\n",
       "      <th>4</th>\n",
       "      <td>Sunny</td>\n",
       "      <td>No</td>\n",
       "    </tr>\n",
       "    <tr>\n",
       "      <th>5</th>\n",
       "      <td>Rainy</td>\n",
       "      <td>Yes</td>\n",
       "    </tr>\n",
       "    <tr>\n",
       "      <th>6</th>\n",
       "      <td>Sunny</td>\n",
       "      <td>Yes</td>\n",
       "    </tr>\n",
       "    <tr>\n",
       "      <th>7</th>\n",
       "      <td>Overcast</td>\n",
       "      <td>No</td>\n",
       "    </tr>\n",
       "    <tr>\n",
       "      <th>8</th>\n",
       "      <td>Rainy</td>\n",
       "      <td>No</td>\n",
       "    </tr>\n",
       "    <tr>\n",
       "      <th>9</th>\n",
       "      <td>Sunny</td>\n",
       "      <td>Yes</td>\n",
       "    </tr>\n",
       "    <tr>\n",
       "      <th>10</th>\n",
       "      <td>Sunny</td>\n",
       "      <td>No</td>\n",
       "    </tr>\n",
       "    <tr>\n",
       "      <th>11</th>\n",
       "      <td>Rainy</td>\n",
       "      <td>Yes</td>\n",
       "    </tr>\n",
       "    <tr>\n",
       "      <th>12</th>\n",
       "      <td>Overcast</td>\n",
       "      <td>Yes</td>\n",
       "    </tr>\n",
       "    <tr>\n",
       "      <th>13</th>\n",
       "      <td>Overcast</td>\n",
       "      <td>Yes</td>\n",
       "    </tr>\n",
       "  </tbody>\n",
       "</table>\n",
       "</div>"
      ],
      "text/plain": [
       "     Outlook Play\n",
       "0     Rainy   Yes\n",
       "1      Sunny  Yes\n",
       "2   Overcast  Yes\n",
       "3   Overcast  Yes\n",
       "4      Sunny   No\n",
       "5      Rainy  Yes\n",
       "6      Sunny  Yes\n",
       "7   Overcast   No\n",
       "8      Rainy   No\n",
       "9      Sunny  Yes\n",
       "10     Sunny   No\n",
       "11     Rainy  Yes\n",
       "12  Overcast  Yes\n",
       "13  Overcast  Yes"
      ]
     },
     "execution_count": 11,
     "metadata": {},
     "output_type": "execute_result"
    }
   ],
   "source": [
    "import pandas as pd\n",
    "df=pd.read_csv('weather.csv')\n",
    "df"
   ]
  },
  {
   "cell_type": "code",
   "execution_count": 20,
   "id": "25112202",
   "metadata": {},
   "outputs": [],
   "source": [
    "rainsum=sunsum=oversum=0\n",
    "outlook=df['Outlook']\n",
    "for i in outlook:\n",
    "    if i=='Rainy':\n",
    "        rainsum+=1\n",
    "    elif i=='Sunny':\n",
    "        sunsum+=1\n",
    "    elif i=='Overcast':\n",
    "        oversum+=1\n",
    "prainy=rainsum/14\n",
    "psun=sunsum/14\n",
    "pover=oversum/14"
   ]
  },
  {
   "cell_type": "code",
   "execution_count": 21,
   "id": "8a88d204",
   "metadata": {},
   "outputs": [],
   "source": [
    "yessum=nosum=0\n",
    "play=df['Play']\n",
    "for i in play:\n",
    "    if i=='No':\n",
    "        nosum+=1\n",
    "    else:\n",
    "        yessum+=1\n",
    "pyes=yessum/14\n",
    "pno=nosum/14"
   ]
  },
  {
   "cell_type": "code",
   "execution_count": 42,
   "id": "3bf5d071",
   "metadata": {},
   "outputs": [],
   "source": [
    "sum1=0\n",
    "for i in range(0,14):\n",
    "    if outlook[i]=='Rainy' and play[i]=='Yes':\n",
    "        sum1+=1\n",
    "prainplay=sum1/pyes\n"
   ]
  },
  {
   "cell_type": "code",
   "execution_count": 43,
   "id": "fc8dba5b",
   "metadata": {},
   "outputs": [],
   "source": [
    "sum2=0\n",
    "for i in range(0,14):\n",
    "    if outlook[i]=='Overcast' and play[i]=='Yes':\n",
    "        sum2+=1\n",
    "poverplay=sum2/pyes"
   ]
  },
  {
   "cell_type": "code",
   "execution_count": 47,
   "id": "778e9bd0",
   "metadata": {},
   "outputs": [],
   "source": [
    "sum3=0\n",
    "for i in range(0,14):\n",
    "    if outlook[i]=='Sunny' and play[i]=='Yes':\n",
    "        sum3+=1\n",
    "psunplay=sum3/(pyes*14)"
   ]
  },
  {
   "cell_type": "code",
   "execution_count": 51,
   "id": "cd62a8ff",
   "metadata": {},
   "outputs": [],
   "source": [
    "sum4=sum5=sum6=0\n",
    "for i in range(0,14):\n",
    "    if outlook[i]=='Overcast' and play[i]=='No':\n",
    "        sum4+=1\n",
    "povernoplay=sum4/pno\n",
    "sum2=0\n",
    "for i in range(0,14):\n",
    "    if outlook[i]=='Sunny' and play[i]=='No':\n",
    "        sum5+=1\n",
    "psunnoplay=sum5/(pno*14)\n",
    "sum2=0\n",
    "for i in range(0,14):\n",
    "    if outlook[i]=='Rainy' and play[i]=='No':\n",
    "        sum6+=1\n",
    "porainynoplay=sum6/pno"
   ]
  },
  {
   "cell_type": "code",
   "execution_count": 60,
   "id": "6cae34aa",
   "metadata": {},
   "outputs": [
    {
     "name": "stdout",
     "output_type": "stream",
     "text": [
      "he/she should play\n"
     ]
    }
   ],
   "source": [
    "def bayes(ph ,pah):\n",
    "    return ph*pah\n",
    "numerator=bayes(psunplay,pyes)\n",
    "probability=numerator/psun\n",
    "num1=bayes(psunnoplay,pno)\n",
    "probability1=num1/(psun)\n",
    "if probability>probability1:\n",
    "    print(\"he/she should play\")\n",
    "else:\n",
    "    print('do not play')"
   ]
  },
  {
   "cell_type": "code",
   "execution_count": 61,
   "id": "719d072d",
   "metadata": {},
   "outputs": [
    {
     "name": "stdout",
     "output_type": "stream",
     "text": [
      "0.6\n",
      "0.39999999999999997\n"
     ]
    }
   ],
   "source": [
    "print(probability)\n",
    "print(probability1)"
   ]
  },
  {
   "cell_type": "code",
   "execution_count": null,
   "id": "f630b1bb",
   "metadata": {},
   "outputs": [],
   "source": []
  },
  {
   "cell_type": "code",
   "execution_count": null,
   "id": "9ccd02d4",
   "metadata": {},
   "outputs": [],
   "source": []
  }
 ],
 "metadata": {
  "kernelspec": {
   "display_name": "Python 3 (ipykernel)",
   "language": "python",
   "name": "python3"
  },
  "language_info": {
   "codemirror_mode": {
    "name": "ipython",
    "version": 3
   },
   "file_extension": ".py",
   "mimetype": "text/x-python",
   "name": "python",
   "nbconvert_exporter": "python",
   "pygments_lexer": "ipython3",
   "version": "3.10.12"
  }
 },
 "nbformat": 4,
 "nbformat_minor": 5
}
