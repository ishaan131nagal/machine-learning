{
 "cells": [
  {
   "cell_type": "code",
   "execution_count": 2,
   "id": "27bbcdc6",
   "metadata": {},
   "outputs": [],
   "source": [
    "#question 1\n",
    "import pandas as pd\n",
    "import numpy as np\n",
    "sal=[1.7,2.4,2.3,3.1,3.7,4.2,4.4,6.1,5.4,5.7,6.4,6.2]\n",
    "exp=[1.2,1.5,1.9,2.2,2.4,2.5,2.8,3.1,3.3,3.7,4.2,4.4]\n",
    "data=pd.DataFrame({\"salary\":sal,\"experience\":exp})"
   ]
  },
  {
   "cell_type": "code",
   "execution_count": 3,
   "id": "e8587d04",
   "metadata": {},
   "outputs": [
    {
     "data": {
      "text/plain": [
       "1.5670982931135955"
      ]
     },
     "execution_count": 3,
     "metadata": {},
     "output_type": "execute_result"
    }
   ],
   "source": [
    "x=np.array(data['experience'])\n",
    "y=np.array(data['salary'])\n",
    "x1=x.mean()\n",
    "y1=y.mean()\n",
    "s=np.size(x)\n",
    "sl=np.sum(x*y)-s*x1*y1\n",
    "ope=np.sum(x*x)-s*x1*x1\n",
    "slope=sl/ope\n",
    "slope"
   ]
  },
  {
   "cell_type": "code",
   "execution_count": 4,
   "id": "8e71c392",
   "metadata": {},
   "outputs": [
    {
     "data": {
      "text/plain": [
       "-0.03563861094761478"
      ]
     },
     "execution_count": 4,
     "metadata": {},
     "output_type": "execute_result"
    }
   ],
   "source": [
    "intercept=y1-slope*x1\n",
    "intercept"
   ]
  },
  {
   "cell_type": "code",
   "execution_count": 6,
   "id": "cd18cc42",
   "metadata": {},
   "outputs": [
    {
     "data": {
      "text/plain": [
       "<matplotlib.legend.Legend at 0x7f1dc7085990>"
      ]
     },
     "execution_count": 6,
     "metadata": {},
     "output_type": "execute_result"
    },
    {
     "data": {
      "image/png": "[encoded data removed]",
      "text/plain": [
       "<Figure size 432x288 with 1 Axes>"
      ]
     },
     "metadata": {
      "needs_background": "light"
     },
     "output_type": "display_data"
    }
   ],
   "source": [
    "import matplotlib.pyplot as plt\n",
    "# Plotting the line \n",
    "y2=intercept+slope*x\n",
    "plt.scatter(x,y, color = 'red') \n",
    "plt.plot(x,y2, color = 'black', label = 'line') \n",
    "plt.xlim(1,4.5) \n",
    "plt.ylim(1,7) \n",
    "plt.xlabel('Experience') \n",
    "plt.ylabel('Salary') \n",
    "plt.legend()"
   ]
  },
  {
   "cell_type": "code",
   "execution_count": 8,
   "id": "12506afb",
   "metadata": {},
   "outputs": [
    {
     "data": {
      "text/plain": [
       "0.23366710810280567"
      ]
     },
     "execution_count": 8,
     "metadata": {},
     "output_type": "execute_result"
    }
   ],
   "source": [
    "squared_errors = (y2 - y)**2\n",
    "mse = np.mean(squared_errors)\n",
    "mse"
   ]
  },
  {
   "cell_type": "code",
   "execution_count": 11,
   "id": "4242e7a7",
   "metadata": {},
   "outputs": [
    {
     "data": {
      "text/plain": [
       "12.5858765"
      ]
     },
     "execution_count": 11,
     "metadata": {},
     "output_type": "execute_result"
    }
   ],
   "source": [
    "#question 1a\n",
    "b=1.1 #constant\n",
    "beta=0.01\n",
    "#beta=0.15\n",
    "#beta=0.8\n",
    "y3=b+beta*x\n",
    "squared_errors = (y3 - y)**2\n",
    "mse = np.mean(squared_errors)\n",
    "mse"
   ]
  },
  {
   "cell_type": "code",
   "execution_count": 13,
   "id": "0a2eddab",
   "metadata": {},
   "outputs": [
    {
     "data": {
      "text/plain": [
       "1.1404166666666662"
      ]
     },
     "execution_count": 13,
     "metadata": {},
     "output_type": "execute_result"
    }
   ],
   "source": [
    "b=1.1 #constant\n",
    "#beta=0.1\n",
    "beta=1.5\n",
    "#beta=0.8\n",
    "y4=b+beta*x\n",
    "squared_errors = (y4 - y)**2\n",
    "mse = np.mean(squared_errors)\n",
    "mse"
   ]
  },
  {
   "cell_type": "code",
   "execution_count": 14,
   "id": "a6c1cb47",
   "metadata": {},
   "outputs": [
    {
     "data": {
      "text/plain": [
       "1.762599999999999"
      ]
     },
     "execution_count": 14,
     "metadata": {},
     "output_type": "execute_result"
    }
   ],
   "source": [
    "b=1.1 #constant\n",
    "#beta=0.1\n",
    "#beta=1.5\n",
    "beta=0.8\n",
    "y5=b+beta*x\n",
    "squared_errors = (y5 - y)**2\n",
    "mse = np.mean(squared_errors)\n",
    "mse"
   ]
  },
  {
   "cell_type": "code",
   "execution_count": 17,
   "id": "86cdd0ca",
   "metadata": {},
   "outputs": [],
   "source": [
    "#question 1b\n",
    "err=[]\n",
    "def error(beta):\n",
    "    y6=1.1+beta*x\n",
    "    squared_errors = (y6 - y)**2\n",
    "    mse = np.mean(squared_errors)\n",
    "    return mse\n",
    "\n",
    "ab=[i/100 for i in range(0,150)]\n",
    "for i in ab:\n",
    "    error1=error(i)\n",
    "    err.append(error1)\n",
    "    "
   ]
  },
  {
   "cell_type": "code",
   "execution_count": 23,
   "id": "fc4a989a",
   "metadata": {},
   "outputs": [
    {
     "data": {
      "text/plain": [
       "Text(0, 0.5, 'mse')"
      ]
     },
     "execution_count": 23,
     "metadata": {},
     "output_type": "execute_result"
    },
    {
     "data": {
      "image/png": "[encoded data removed]",
      "text/plain": [
       "<Figure size 432x288 with 1 Axes>"
      ]
     },
     "metadata": {
      "needs_background": "light"
     },
     "output_type": "display_data"
    }
   ],
   "source": [
    "ab=np.array(ab)\n",
    "err=np.array(err)\n",
    "plt.scatter(ab,err, color = 'red') \n",
    "plt.xlabel('beta') \n",
    "plt.ylabel('mse')"
   ]
  },
  {
   "cell_type": "code",
   "execution_count": 28,
   "id": "044f248b",
   "metadata": {},
   "outputs": [
    {
     "data": {
      "text/html": [
       "<div>\n",
       "<style scoped>\n",
       "    .dataframe tbody tr th:only-of-type {\n",
       "        vertical-align: middle;\n",
       "    }\n",
       "\n",
       "    .dataframe tbody tr th {\n",
       "        vertical-align: top;\n",
       "    }\n",
       "\n",
       "    .dataframe thead th {\n",
       "        text-align: right;\n",
       "    }\n",
       "</style>\n",
       "<table border=\"1\" class=\"dataframe\">\n",
       "  <thead>\n",
       "    <tr style=\"text-align: right;\">\n",
       "      <th></th>\n",
       "      <th>mse</th>\n",
       "      <th>beta</th>\n",
       "    </tr>\n",
       "  </thead>\n",
       "  <tbody>\n",
       "    <tr>\n",
       "      <th>0</th>\n",
       "      <td>12.791667</td>\n",
       "      <td>0.00</td>\n",
       "    </tr>\n",
       "    <tr>\n",
       "      <th>1</th>\n",
       "      <td>12.585876</td>\n",
       "      <td>0.01</td>\n",
       "    </tr>\n",
       "    <tr>\n",
       "      <th>2</th>\n",
       "      <td>12.381806</td>\n",
       "      <td>0.02</td>\n",
       "    </tr>\n",
       "    <tr>\n",
       "      <th>3</th>\n",
       "      <td>12.179455</td>\n",
       "      <td>0.03</td>\n",
       "    </tr>\n",
       "    <tr>\n",
       "      <th>4</th>\n",
       "      <td>11.978824</td>\n",
       "      <td>0.04</td>\n",
       "    </tr>\n",
       "    <tr>\n",
       "      <th>...</th>\n",
       "      <td>...</td>\n",
       "      <td>...</td>\n",
       "    </tr>\n",
       "    <tr>\n",
       "      <th>145</th>\n",
       "      <td>0.905412</td>\n",
       "      <td>1.45</td>\n",
       "    </tr>\n",
       "    <tr>\n",
       "      <th>146</th>\n",
       "      <td>0.948974</td>\n",
       "      <td>1.46</td>\n",
       "    </tr>\n",
       "    <tr>\n",
       "      <th>147</th>\n",
       "      <td>0.994255</td>\n",
       "      <td>1.47</td>\n",
       "    </tr>\n",
       "    <tr>\n",
       "      <th>148</th>\n",
       "      <td>1.041256</td>\n",
       "      <td>1.48</td>\n",
       "    </tr>\n",
       "    <tr>\n",
       "      <th>149</th>\n",
       "      <td>1.089976</td>\n",
       "      <td>1.49</td>\n",
       "    </tr>\n",
       "  </tbody>\n",
       "</table>\n",
       "<p>150 rows × 2 columns</p>\n",
       "</div>"
      ],
      "text/plain": [
       "           mse  beta\n",
       "0    12.791667  0.00\n",
       "1    12.585876  0.01\n",
       "2    12.381806  0.02\n",
       "3    12.179455  0.03\n",
       "4    11.978824  0.04\n",
       "..         ...   ...\n",
       "145   0.905412  1.45\n",
       "146   0.948974  1.46\n",
       "147   0.994255  1.47\n",
       "148   1.041256  1.48\n",
       "149   1.089976  1.49\n",
       "\n",
       "[150 rows x 2 columns]"
      ]
     },
     "execution_count": 28,
     "metadata": {},
     "output_type": "execute_result"
    }
   ],
   "source": [
    "df=pd.DataFrame({'mse':err,'beta':ab})\n",
    "df"
   ]
  },
  {
   "cell_type": "code",
   "execution_count": 35,
   "id": "2b8b414a",
   "metadata": {},
   "outputs": [
    {
     "data": {
      "text/plain": [
       "Text(0, 0.5, 'mse')"
      ]
     },
     "execution_count": 35,
     "metadata": {},
     "output_type": "execute_result"
    },
    {
     "data": {
      "image/png": "[encoded data removed]",
      "text/plain": [
       "<Figure size 432x288 with 1 Axes>"
      ]
     },
     "metadata": {
      "needs_background": "light"
     },
     "output_type": "display_data"
    }
   ],
   "source": [
    "#question 1c\n",
    "# with b=1.5\n",
    "b=1.5\n",
    "#b=0.1\n",
    "#b=0.8\n",
    "err=[]\n",
    "def error(beta):\n",
    "    y6=b+beta*x\n",
    "    squared_errors = (y6 - y)**2\n",
    "    mse = np.mean(squared_errors)\n",
    "    return mse\n",
    "\n",
    "ab=[i/100 for i in range(0,150)]\n",
    "for i in ab:\n",
    "    error1=error(i)\n",
    "    err.append(error1)\n",
    "ab=np.array(ab)\n",
    "err=np.array(err)\n",
    "plt.scatter(ab,err, color = 'blue') \n",
    "plt.xlabel('beta') \n",
    "plt.ylabel('mse')"
   ]
  },
  {
   "cell_type": "code",
   "execution_count": 34,
   "id": "1a5664d6",
   "metadata": {},
   "outputs": [
    {
     "data": {
      "text/plain": [
       "Text(0, 0.5, 'mse')"
      ]
     },
     "execution_count": 34,
     "metadata": {},
     "output_type": "execute_result"
    },
    {
     "data": {
      "image/png": "[encoded data removed]",
      "text/plain": [
       "<Figure size 432x288 with 1 Axes>"
      ]
     },
     "metadata": {
      "needs_background": "light"
     },
     "output_type": "display_data"
    }
   ],
   "source": [
    "#b=1.5\n",
    "# with b=0.1\n",
    "b=0.1\n",
    "#b=0.8\n",
    "err=[]\n",
    "def error(beta):\n",
    "    y6=b+beta*x\n",
    "    squared_errors = (y6 - y)**2\n",
    "    mse = np.mean(squared_errors)\n",
    "    return mse\n",
    "\n",
    "ab=[i/100 for i in range(0,150)]\n",
    "for i in ab:\n",
    "    error1=error(i)\n",
    "    err.append(error1)\n",
    "ab=np.array(ab)\n",
    "err=np.array(err)\n",
    "plt.scatter(ab,err, color = 'green') \n",
    "plt.xlabel('beta') \n",
    "plt.ylabel('mse')"
   ]
  },
  {
   "cell_type": "code",
   "execution_count": 33,
   "id": "d00ecc20",
   "metadata": {},
   "outputs": [
    {
     "data": {
      "text/plain": [
       "Text(0, 0.5, 'mse')"
      ]
     },
     "execution_count": 33,
     "metadata": {},
     "output_type": "execute_result"
    },
    {
     "data": {
      "image/png": "[encoded data removed]",
      "text/plain": [
       "<Figure size 432x288 with 1 Axes>"
      ]
     },
     "metadata": {
      "needs_background": "light"
     },
     "output_type": "display_data"
    }
   ],
   "source": [
    "#b=1.5\n",
    "#b=0.1\n",
    "# with b=0.8\n",
    "b=0.8\n",
    "err=[]\n",
    "def error(beta):\n",
    "    y6=b+beta*x\n",
    "    squared_errors = (y6 - y)**2\n",
    "    mse = np.mean(squared_errors)\n",
    "    return mse\n",
    "\n",
    "ab=[i/100 for i in range(0,150)]\n",
    "for i in ab:\n",
    "    error1=error(i)\n",
    "    err.append(error1)\n",
    "ab=np.array(ab)\n",
    "err=np.array(err)\n",
    "plt.scatter(ab,err, color = 'yellow') \n",
    "plt.xlabel('beta') \n",
    "plt.ylabel('mse')"
   ]
  },
  {
   "cell_type": "code",
   "execution_count": 36,
   "id": "86d91611",
   "metadata": {},
   "outputs": [
    {
     "data": {
      "text/plain": [
       "Text(0, 0.5, 'mse')"
      ]
     },
     "execution_count": 36,
     "metadata": {},
     "output_type": "execute_result"
    },
    {
     "data": {
      "image/png": "[encoded data removed]",
      "text/plain": [
       "<Figure size 432x288 with 1 Axes>"
      ]
     },
     "metadata": {
      "needs_background": "light"
     },
     "output_type": "display_data"
    }
   ],
   "source": [
    "#question 1d\n",
    "from sklearn.metrics import mean_squared_error\n",
    "err=[]\n",
    "def error(beta):\n",
    "    y6=1.1+beta*x\n",
    "    MSE = mean_squared_error(y6, y)\n",
    "    return MSE\n",
    "\n",
    "ab=[i/100 for i in range(0,150)]\n",
    "for i in ab:\n",
    "    error1=error(i)\n",
    "    err.append(error1)\n",
    "ab=np.array(ab)\n",
    "err=np.array(err)\n",
    "plt.scatter(ab,err, color = 'orange') \n",
    "plt.xlabel('beta') \n",
    "plt.ylabel('mse')   "
   ]
  },
  {
   "cell_type": "code",
   "execution_count": 52,
   "id": "e7c07eea",
   "metadata": {},
   "outputs": [],
   "source": [
    "#question 2\n"
   ]
  },
  {
   "cell_type": "code",
   "execution_count": 97,
   "id": "e3e25bf5",
   "metadata": {},
   "outputs": [
    {
     "name": "stdout",
     "output_type": "stream",
     "text": [
      "1   exp= 1.2   sal= 1.7   B0 =  0.017   B1=  0.0204   error= -1.7\n",
      "1   exp= 1.5   sal= 2.4   B0 =  0.040524000000000004   B1=  0.055686   error= -2.3524\n",
      "1   exp= 1.9   sal= 2.3   B0 =  0.062060726000000004   B1=  0.0966057794   error= -2.1536725999999997\n",
      "1   exp= 2.2   sal= 3.1   B0 =  0.09031479159320001   B1=  0.15876472370504   error= -2.82540655932\n",
      "1   exp= 2.4   sal= 3.7   B0 =  0.12260129030834704   B1=  0.2362523206213929   error= -3.2286498715147043\n",
      "1   exp= 2.5   sal= 4.2   B0 =  0.15746896938972876   B1=  0.32342151832484717   error= -3.486767908138171\n",
      "1   exp= 2.8   sal= 4.4   B0 =  0.19083847718273575   B1=  0.41685614014526673   error= -3.3369507793006994\n",
      "1   exp= 3.1   sal= 6.1   B0 =  0.2370075520664051   B1=  0.5599802722846419   error= -4.616907488366937\n",
      "1   exp= 3.3   sal= 5.4   B0 =  0.2701581275603479   B1=  0.669377171414653   error= -3.315057549394277\n",
      "1   exp= 3.7   sal= 5.7   B0 =  0.2996895909424023   B1=  0.7786435859282541   error= -2.953146338205436\n",
      "1   exp= 4.2   sal= 6.4   B0 =  0.3279896644239916   B1=  0.8975038945509292   error= -2.8300073481589303\n",
      "1   exp= 4.4   sal= 6.2   B0 =  0.3472195964195108   B1=  0.9821155953312136   error= -1.9229931995519198\n",
      "2   exp= 1.2   sal= 1.7   B0 =  0.3489620133113411   B1=  0.98420649560141   error= -0.17424168918303273\n",
      "2   exp= 1.5   sal= 2.4   B0 =  0.3547092957442065   B1=  0.9928274192507082   error= -0.5747282432865437\n",
      "2   exp= 1.9   sal= 2.3   B0 =  0.355298481821001   B1=  0.9939468727966176   error= -0.0589186076794479\n",
      "2   exp= 2.2   sal= 3.1   B0 =  0.3608786658012654   B1=  1.0062232775531994   error= -0.5580183980264404\n",
      "2   exp= 2.4   sal= 3.7   B0 =  0.37012052048197597   B1=  1.0284037287869048   error= -0.9241854680710566\n",
      "2   exp= 2.5   sal= 4.2   B0 =  0.3827092220574836   B1=  1.0598754827256738   error= -1.2588701575507626\n",
      "2   exp= 2.8   sal= 4.4   B0 =  0.39320561632058987   B1=  1.0892653866623714   error= -1.0496394263106303\n",
      "2   exp= 3.1   sal= 6.1   B0 =  0.41650633317085045   B1=  1.1614976088981792   error= -2.3300716850260588\n",
      "2   exp= 3.3   sal= 5.4   B0 =  0.428011848745502   B1=  1.1994658102945295   error= -1.1505515574651586\n",
      "2   exp= 3.7   sal= 5.7   B0 =  0.4363514952771494   B1=  1.230322502461625   error= -0.8339646531647391\n",
      "2   exp= 4.2   sal= 6.4   B0 =  0.4443144352209897   B1=  1.263766850225754   error= -0.7962939943840261\n",
      "2   exp= 4.4   sal= 6.2   B0 =  0.4462655494588466   B1=  1.2723517528723245   error= -0.19511142378569257\n",
      "3   exp= 1.2   sal= 1.7   B0 =  0.44353467292979026   B1=  1.2690747010374568   error= 0.27308765290563586\n",
      "3   exp= 1.5   sal= 2.4   B0 =  0.4440632056849305   B1=  1.2698675001701671   error= -0.0528532755140243\n",
      "3   exp= 1.9   sal= 2.3   B0 =  0.438495091124848   B1=  1.2592880825060104   error= 0.5568114560082478\n",
      "3   exp= 2.2   sal= 3.1   B0 =  0.4374058023984673   B1=  1.2568916473079728   error= 0.10892887263807127\n",
      "3   exp= 2.4   sal= 3.7   B0 =  0.4398663448390913   B1=  1.2627969491654703   error= -0.2460542440623983\n",
      "3   exp= 2.5   sal= 4.2   B0 =  0.44589775766156364   B1=  1.277875481221651   error= -0.6031412822472331\n",
      "3   exp= 2.8   sal= 4.4   B0 =  0.44965826661074176   B1=  1.28840490627935   error= -0.37605089491781385\n",
      "3   exp= 3.1   sal= 6.1   B0 =  0.4662211318499745   B1=  1.3397497885209713   error= -1.6562865239232734\n",
      "3   exp= 3.3   sal= 5.4   B0 =  0.4713471775102827   B1=  1.3566657391999883   error= -0.5126045660308209\n",
      "3   exp= 3.7   sal= 5.7   B0 =  0.4734370733847803   B1=  1.3643983539356295   error= -0.2089895874497607\n",
      "3   exp= 4.2   sal= 6.4   B0 =  0.4753979717856361   B1=  1.3726341272192237   error= -0.19608984008557595\n",
      "3   exp= 4.4   sal= 6.2   B0 =  0.4722480904701339   B1=  1.358774649431014   error= 0.314988131550221\n",
      "4   exp= 1.2   sal= 1.7   B0 =  0.46822031377226037   B1=  1.3539413173935657   error= 0.40277766978735063\n",
      "4   exp= 1.5   sal= 2.4   B0 =  0.4672289908736343   B1=  1.3524543330456267   error= 0.09913228986260902\n",
      "4   exp= 1.9   sal= 2.3   B0 =  0.45986006863703105   B1=  1.3384533807960806   error= 0.736892223660325\n",
      "4   exp= 2.2   sal= 3.1   B0 =  0.456815493573147   B1=  1.3317553156555355   error= 0.3044575063884083\n",
      "4   exp= 2.4   sal= 3.7   B0 =  0.4572852110616827   B1=  1.3328826376280212   error= -0.04697174885356814\n",
      "4   exp= 2.5   sal= 4.2   B0 =  0.4613902930103653   B1=  1.3431453424997277   error= -0.41050819486826473\n",
      "4   exp= 2.8   sal= 4.4   B0 =  0.4631683204902693   B1=  1.3481238194434588   error= -0.17780274799039741\n",
      "4   exp= 3.1   sal= 6.1   B0 =  0.4777447988826194   B1=  1.393310902459744   error= -1.4576478392350074\n",
      "4   exp= 3.3   sal= 5.4   B0 =  0.48098809111262164   B1=  1.4040137668187516   error= -0.32432922300022593\n",
      "4   exp= 3.7   sal= 5.7   B0 =  0.48122970082920163   B1=  1.4049077227700975   error= -0.0241609716579978\n",
      "4   exp= 4.2   sal= 6.4   B0 =  0.4814112794645655   B1=  1.4056703530386259   error= -0.018157863536389485\n",
      "4   exp= 4.4   sal= 6.2   B0 =  0.47674767113622035   B1=  1.385150476393907   error= 0.46636083283451946\n",
      "5   exp= 1.2   sal= 1.7   B0 =  0.47235838870813124   B1=  1.3798833374802002   error= 0.43892824280890896\n",
      "5   exp= 1.5   sal= 2.4   B0 =  0.47093655475884694   B1=  1.3777505865562738   error= 0.1421833949284319\n",
      "5   exp= 1.9   sal= 2.3   B0 =  0.46304992806668926   B1=  1.3627659958411742   error= 0.7886626692157672\n",
      "5   exp= 2.2   sal= 3.1   B0 =  0.45943857687751655   B1=  1.3548210232249942   error= 0.36113511891727246\n",
      "5   exp= 2.4   sal= 3.7   B0 =  0.4593284865513415   B1=  1.3545568064421742   error= 0.01100903261750208\n",
      "5   exp= 2.5   sal= 4.2   B0 =  0.46287128152477375   B1=  1.363413793875755   error= -0.35427949734322306\n",
      "5   exp= 2.8   sal= 4.4   B0 =  0.46406698248100486   B1=  1.366761756553202   error= -0.11957009562311338\n",
      "5   exp= 3.1   sal= 6.1   B0 =  0.4780566982030455   B1=  1.4101298752915281   error= -1.3989715722040685\n",
      "5   exp= 3.3   sal= 5.4   B0 =  0.48074184533639464   B1=  1.4189908608315802   error= -0.2685147133349126\n",
      "5   exp= 3.7   sal= 5.7   B0 =  0.4804317650322622   B1=  1.4178435637062903   error= 0.031008030413241627\n",
      "5   exp= 4.2   sal= 6.4   B0 =  0.4800780177062754   B1=  1.4163578249371456   error= 0.03537473259868129\n",
      "5   exp= 4.4   sal= 6.2   B0 =  0.4749574932319782   B1=  1.3938275172502381   error= 0.5120524474297161\n"
     ]
    },
    {
     "data": {
      "text/plain": [
       "[<matplotlib.lines.Line2D at 0x7f1dba7afca0>]"
      ]
     },
     "execution_count": 97,
     "metadata": {},
     "output_type": "execute_result"
    },
    {
     "data": {
      "image/png": "[encoded data removed]",
      "text/plain": [
       "<Figure size 432x288 with 1 Axes>"
      ]
     },
     "metadata": {
      "needs_background": "light"
     },
     "output_type": "display_data"
    }
   ],
   "source": [
    "#with learning rate 0.01\n",
    "alpha=0.01\n",
    "b=0\n",
    "beta=0\n",
    "m=[i for i in range(1,61)]\n",
    "err12=[]\n",
    "betavalues=[]\n",
    "for i in range(5):\n",
    "    for j in range(12):\n",
    "        pi=b+beta*exp[j]\n",
    "        error = pi-sal[j] \n",
    "        err12.append(error)\n",
    "        b=b-alpha*error \n",
    "        beta=beta-alpha*error*exp[j]\n",
    "        betavalues.append(beta)\n",
    "        print(i+1, \" \", \"exp=\", exp[j], \" \", \"sal=\", sal[j], \" \" , \"B0 = \", b, \" \", \"B1= \", beta, \" \", \"error=\", error) \n",
    "plt.plot(err1,m, color = 'black', label = 'line') "
   ]
  },
  {
   "cell_type": "code",
   "execution_count": 76,
   "id": "390ab4fd",
   "metadata": {},
   "outputs": [
    {
     "name": "stdout",
     "output_type": "stream",
     "text": [
      "1   exp= 1.2   sal= 1.7   B0 =  0.17   B1=  0.20400000000000001   error= -1.7\n",
      "1   exp= 1.5   sal= 2.4   B0 =  0.36240000000000006   B1=  0.49260000000000004   error= -1.924\n",
      "1   exp= 1.9   sal= 2.3   B0 =  0.46256600000000003   B1=  0.6829154   error= -1.0016599999999998\n",
      "1   exp= 2.2   sal= 3.1   B0 =  0.576068012   B1=  0.9326198264   error= -1.13502012\n",
      "1   exp= 2.4   sal= 3.7   B0 =  0.664632452464   B1=  1.1451744835136   error= -0.8856444046400003\n",
      "1   exp= 2.5   sal= 4.2   B0 =  0.7318755863392   B1=  1.3132823182016   error= -0.6724313387520002\n",
      "1   exp= 2.8   sal= 4.4   B0 =  0.730968978608832   B1=  1.3107438165565697   error= 0.009066077303679698\n",
      "1   exp= 3.1   sal= 6.1   B0 =  0.8615414976154121   B1=  1.715518625476968   error= -1.3057251900658011\n",
      "1   exp= 3.3   sal= 5.4   B0 =  0.7492662014464715   B1=  1.3450101481194643   error= 1.1227529616894056\n",
      "1   exp= 3.7   sal= 5.7   B0 =  0.7466858264976225   B1=  1.335462760808723   error= 0.025803749488489736\n",
      "1   exp= 4.2   sal= 6.4   B0 =  0.7511228843081966   B1=  1.3540984036131343   error= -0.044370578105740854\n",
      "1   exp= 4.4   sal= 6.2   B0 =  0.7002072982875979   B1=  1.1300698251224994   error= 0.509155860205988\n",
      "2   exp= 1.2   sal= 1.7   B0 =  0.6645781894441382   B1=  1.0873148945103477   error= 0.35629108843459734\n",
      "2   exp= 1.5   sal= 2.4   B0 =  0.6750231363231721   B1=  1.1029823148288986   error= -0.10444946879034012\n",
      "2   exp= 1.9   sal= 2.3   B0 =  0.6279541828733641   B1=  1.0135513032742636   error= 0.4706895344980797\n",
      "2   exp= 2.2   sal= 3.1   B0 =  0.6521774778656897   B1=  1.06684255225738   error= -0.2422329499232556\n",
      "2   exp= 2.4   sal= 3.7   B0 =  0.7009175175373495   B1=  1.1838186474693635   error= -0.48740039671659874\n",
      "2   exp= 2.5   sal= 4.2   B0 =  0.7548711039162738   B1=  1.318702613416674   error= -0.5395358637892418\n",
      "2   exp= 2.8   sal= 4.4   B0 =  0.7501472617679777   B1=  1.3054758554014452   error= 0.04723842148295976\n",
      "2   exp= 3.1   sal= 6.1   B0 =  0.8804350204167319   B1=  1.7093679072125831   error= -1.3028775864875417\n",
      "2   exp= 3.3   sal= 5.4   B0 =  0.7683001089949064   B1=  1.3393226995205587   error= 1.1213491142182557\n",
      "2   exp= 3.7   sal= 5.7   B0 =  0.765920699272809   B1=  1.3305188835487982   error= 0.02379409722097403\n",
      "2   exp= 4.2   sal= 6.4   B0 =  0.7705106982550329   B1=  1.3497968792741384   error= -0.04589998982223875\n",
      "2   exp= 4.4   sal= 6.2   B0 =  0.7195490015489088   B1=  1.1255654137671918   error= 0.509616967061242\n",
      "3   exp= 1.2   sal= 1.7   B0 =  0.6825262517419549   B1=  1.0811381139988472   error= 0.3702274980695386\n",
      "3   exp= 1.5   sal= 2.4   B0 =  0.6921029094679323   B1=  1.0955031005878133   error= -0.095766577259774\n",
      "3   exp= 1.9   sal= 2.3   B0 =  0.6447470294094545   B1=  1.0055269284767054   error= 0.47355880058477773\n",
      "3   exp= 2.2   sal= 3.1   B0 =  0.6690564022036338   B1=  1.0590075486239001   error= -0.2430937279417935\n",
      "3   exp= 2.4   sal= 3.7   B0 =  0.7179889503135344   B1=  1.1764456640876615   error= -0.489325481099006\n",
      "3   exp= 2.5   sal= 4.2   B0 =  0.7720786392602657   B1=  1.3116698864544896   error= -0.5408968894673123\n",
      "3   exp= 2.8   sal= 4.4   B0 =  0.7676032071269822   B1=  1.2991386764812958   error= 0.04475432133283519\n",
      "3   exp= 3.1   sal= 6.1   B0 =  0.8981098967050822   B1=  1.703709414173406   error= -1.3050668957810005\n",
      "3   exp= 3.3   sal= 5.4   B0 =  0.7860748003573501   B1=  1.33399359622589   error= 1.1203509634773212\n",
      "3   exp= 3.7   sal= 5.7   B0 =  0.7838896897180359   B1=  1.325908686860427   error= 0.021851106393143027\n",
      "3   exp= 4.2   sal= 6.4   B0 =  0.788619072264853   B1=  1.345772093557059   error= -0.04729382546817096\n",
      "3   exp= 4.4   sal= 6.2   B0 =  0.7376174438732617   B1=  1.1213649286340575   error= 0.5100162839159124\n",
      "4   exp= 1.2   sal= 1.7   B0 =  0.6992919080498486   B1=  1.0753742856459618   error= 0.3832553582341307\n",
      "4   exp= 1.5   sal= 2.4   B0 =  0.7080565743979695   B1=  1.0885212851681432   error= -0.08764666348120853\n",
      "4   exp= 1.9   sal= 2.3   B0 =  0.6604318727762254   B1=  0.9980343520868292   error= 0.4762470162174419\n",
      "4   exp= 2.2   sal= 3.1   B0 =  0.6848211280395003   B1=  1.0516907136660343   error= -0.24389255263275\n",
      "4   exp= 2.4   sal= 3.7   B0 =  0.7339332439557021   B1=  1.1695597918649185   error= -0.49112115916201793\n",
      "4   exp= 2.5   sal= 4.2   B0 =  0.7881499715939023   B1=  1.305101610960419   error= -0.5421672763820018\n",
      "4   exp= 2.8   sal= 4.4   B0 =  0.7839065233655949   B1=  1.2932199559211581   error= 0.04243448228307489\n",
      "4   exp= 3.1   sal= 6.1   B0 =  0.9146176846934764   B1=  1.6984245560375908   error= -1.3071116132788152\n",
      "4   exp= 3.3   sal= 5.4   B0 =  0.8026758127317237   B1=  1.3290163785638072   error= 1.119418719617526\n",
      "4   exp= 3.7   sal= 5.7   B0 =  0.8006721713899427   B1=  1.3216029055992173   error= 0.020036413417810373\n",
      "4   exp= 4.2   sal= 6.4   B0 =  0.8055317338992772   B1=  1.3420130681384221   error= -0.04859562509334481\n",
      "4   exp= 4.4   sal= 6.2   B0 =  0.7544928105284437   B1=  1.1174418053067545   error= 0.5103892337083353\n",
      "5   exp= 1.2   sal= 1.7   B0 =  0.7149505128387889   B1=  1.0699910480791686   error= 0.39542297689654915\n",
      "5   exp= 1.5   sal= 2.4   B0 =  0.7229568043430347   B1=  1.0820004853355374   error= -0.0800629150424581\n",
      "5   exp= 1.9   sal= 2.3   B0 =  0.675081031694979   B1=  0.9910365173042317   error= 0.47875772648055603\n",
      "5   exp= 2.2   sal= 3.1   B0 =  0.6995448947185501   B1=  1.0448570159560882   error= -0.24463863023571086\n",
      "5   exp= 2.4   sal= 3.7   B0 =  0.7488247214172339   B1=  1.1631286000329295   error= -0.4927982669868385\n",
      "5   exp= 2.5   sal= 4.2   B0 =  0.8031600992672782   B1=  1.2989670446580401   error= -0.5433537785004425\n",
      "5   exp= 2.8   sal= 4.4   B0 =  0.7991333168362992   B1=  1.2876920538512988   error= 0.04026782430979026\n",
      "5   exp= 3.1   sal= 6.1   B0 =  0.9300354484587666   B1=  1.693488661880948   error= -1.3090213162246744\n",
      "5   exp= 3.3   sal= 5.4   B0 =  0.8181806451921773   B1=  1.3243678111012032   error= 1.1185480326658936\n",
      "5   exp= 3.7   sal= 5.7   B0 =  0.8163464905655143   B1=  1.3175814389825504   error= 0.01834154626662876\n",
      "5   exp= 4.2   sal= 6.4   B0 =  0.8213276371362918   B1=  1.3385022545798153   error= -0.04981146570777373\n",
      "5   exp= 4.4   sal= 6.2   B0 =  0.7702538814075438   B1=  1.1137777293733244   error= 0.510737557287479\n"
     ]
    },
    {
     "data": {
      "text/plain": [
       "[<matplotlib.lines.Line2D at 0x7f1dbaf41450>]"
      ]
     },
     "execution_count": 76,
     "metadata": {},
     "output_type": "execute_result"
    },
    {
     "data": {
      "image/png": "[encoded data removed]",
      "text/plain": [
       "<Figure size 432x288 with 1 Axes>"
      ]
     },
     "metadata": {
      "needs_background": "light"
     },
     "output_type": "display_data"
    }
   ],
   "source": [
    "#with learning rate 0.1\n",
    "alpha=0.1\n",
    "b=0\n",
    "beta=0\n",
    "m=[i for i in range(1,61)]\n",
    "err1=[]\n",
    "for i in range(5):\n",
    "    for j in range(12):\n",
    "        pi=b+beta*exp[j]\n",
    "        error = pi-sal[j] \n",
    "        err1.append(error)\n",
    "        b=b-alpha*error \n",
    "        beta=beta-alpha*error*exp[j]\n",
    "        print(i+1, \" \", \"exp=\", exp[j], \" \", \"sal=\", sal[j], \" \" , \"B0 = \", b, \" \", \"B1= \", beta, \" \", \"error=\", error) \n",
    "plt.plot(m,err1, color = 'black', label = 'line') "
   ]
  },
  {
   "cell_type": "code",
   "execution_count": 77,
   "id": "61af7a08",
   "metadata": {},
   "outputs": [
    {
     "name": "stdout",
     "output_type": "stream",
     "text": [
      "1   exp= 1.2   sal= 1.7   B0 =  0.0017   B1=  0.0020399999999999997   error= -1.7\n",
      "1   exp= 1.5   sal= 2.4   B0 =  0.00409524   B1=  0.00563286   error= -2.39524\n",
      "1   exp= 1.9   sal= 2.3   B0 =  0.006380442326   B1=  0.0099747444194   error= -2.285202326\n",
      "1   exp= 2.2   sal= 3.1   B0 =  0.00945211744595132   B1=  0.016732429683292905   error= -3.07167511995132\n",
      "1   exp= 2.4   sal= 3.7   B0 =  0.013102507497265466   B1=  0.025493365806446854   error= -3.650390051314146\n",
      "1   exp= 2.5   sal= 4.2   B0 =  0.017225671575252084   B1=  0.0358012760014134   error= -4.123164077986617\n",
      "1   exp= 2.8   sal= 4.4   B0 =  0.021508202330872875   B1=  0.04779236211715161   error= -4.28253075562079\n",
      "1   exp= 3.1   sal= 6.1   B0 =  0.02743853780597883   B1=  0.06617640208998007   error= -5.930335475105957\n",
      "1   exp= 3.3   sal= 5.4   B0 =  0.032592717141275915   B1=  0.08318519389646045   error= -5.154179335297087\n",
      "1   exp= 3.7   sal= 5.7   B0 =  0.037952339206717735   B1=  0.10301579553859519   error= -5.359622065441821\n",
      "1   exp= 4.2   sal= 6.4   B0 =  0.04388172052624892   B1=  0.12791919708062616   error= -5.929381319531183\n",
      "1   exp= 4.4   sal= 6.2   B0 =  0.04947499433856792   B1=  0.15252960185482975   error= -5.593273812318996\n",
      "2   exp= 1.2   sal= 1.7   B0 =  0.05094248382200355   B1=  0.1542905892349525   error= -1.4674894834356365\n",
      "2   exp= 1.5   sal= 2.4   B0 =  0.05306010545432912   B1=  0.15746702168344087   error= -2.1176216323255677\n",
      "2   exp= 1.9   sal= 2.3   B0 =  0.055007858007676255   B1=  0.16116775153480042   error= -1.9477525533471332\n",
      "2   exp= 2.2   sal= 3.1   B0 =  0.05769828109629202   B1=  0.1670866823297551   error= -2.6904230886157627\n",
      "2   exp= 2.4   sal= 3.7   B0 =  0.06093957477760432   B1=  0.1748657871649046   error= -3.241293681312296\n",
      "2   exp= 2.5   sal= 4.2   B0 =  0.06464147073491446   B1=  0.18412052705817994   error= -3.701895957310134\n",
      "2   exp= 2.8   sal= 4.4   B0 =  0.06846129178841663   B1=  0.19481602600798606   error= -3.8198210535021824\n",
      "2   exp= 3.1   sal= 6.1   B0 =  0.07388890081600345   B1=  0.21164161399350523   error= -5.4276090275868265\n",
      "2   exp= 3.3   sal= 5.4   B0 =  0.07851659458900888   B1=  0.22691300344442314   error= -4.627693773005429\n",
      "2   exp= 3.7   sal= 5.7   B0 =  0.08329849988167551   B1=  0.24460605302728966   error= -4.781905292666625\n",
      "2   exp= 4.2   sal= 6.4   B0 =  0.08858785595907921   B1=  0.26682134855238526   error= -5.289356077403708\n",
      "2   exp= 4.4   sal= 6.2   B0 =  0.09352525416948963   B1=  0.28854590067819114   error= -4.937398210410426\n",
      "3   exp= 1.2   sal= 1.7   B0 =  0.09478547383450632   B1=  0.2900581642762112   error= -1.260219665016681\n",
      "3   exp= 1.5   sal= 2.4   B0 =  0.0966556011142575   B1=  0.29286335519583795   error= -1.870127279751177\n",
      "3   exp= 1.9   sal= 2.3   B0 =  0.09830250513827116   B1=  0.2959924728414639   error= -1.6469040240136503\n",
      "3   exp= 2.2   sal= 3.1   B0 =  0.10065301919288167   B1=  0.301163603761607   error= -2.3505140546105086\n",
      "3   exp= 2.4   sal= 3.7   B0 =  0.10352957352466093   B1=  0.30806733415787724   error= -2.8765543317792615\n",
      "3   exp= 2.5   sal= 4.2   B0 =  0.10685587561574157   B1=  0.31638308938557885   error= -3.3263020910806462\n",
      "3   exp= 2.8   sal= 4.4   B0 =  0.1102631470898462   B1=  0.32592344951307184   error= -3.407271474104638\n",
      "3   exp= 3.1   sal= 6.1   B0 =  0.11524252124926583   B1=  0.34135950940727267   error= -4.97937415941963\n",
      "3   exp= 3.3   sal= 5.4   B0 =  0.11940079234697257   B1=  0.3550818040297049   error= -4.158271097706734\n",
      "3   exp= 3.7   sal= 5.7   B0 =  0.12366758887971568   B1=  0.37086895120085445   error= -4.266796532743119\n",
      "3   exp= 4.2   sal= 6.4   B0 =  0.1283862716957924   B1=  0.39068741902837656   error= -4.718682816076696\n",
      "3   exp= 4.4   sal= 6.2   B0 =  0.13273886078037175   B1=  0.4098388110005257   error= -4.352589084579351\n",
      "4   exp= 1.2   sal= 1.7   B0 =  0.13381431534639074   B1=  0.4111293564797485   error= -1.0754545660189974\n",
      "4   exp= 1.5   sal= 2.4   B0 =  0.13546380699632474   B1=  0.4136035939546495   error= -1.6494916499339864\n",
      "4   exp= 1.9   sal= 2.3   B0 =  0.13684249636081458   B1=  0.4162231037471802   error= -1.378689364489841\n",
      "4   exp= 2.2   sal= 3.1   B0 =  0.13888996303620996   B1=  0.42072753043305006   error= -2.047466675395389\n",
      "4   exp= 2.4   sal= 3.7   B0 =  0.14144132700013443   B1=  0.4268508039464688   error= -2.5513639639244703\n",
      "4   exp= 2.5   sal= 4.2   B0 =  0.14443275866326813   B1=  0.434329383104303   error= -2.9914316631336937\n",
      "4   exp= 2.8   sal= 4.4   B0 =  0.14747220363191282   B1=  0.44283982901650815   error= -3.039444968644684\n",
      "4   exp= 3.1   sal= 6.1   B0 =  0.15205192795832972   B1=  0.4570369744284006   error= -4.579724326416912\n",
      "4   exp= 3.3   sal= 5.4   B0 =  0.15579165401475767   B1=  0.4693780704146128   error= -3.7397260564279486\n",
      "4   exp= 3.7   sal= 5.7   B0 =  0.15959916350020883   B1=  0.4834658555107822   error= -3.807509485451175\n",
      "4   exp= 4.2   sal= 6.4   B0 =  0.16380900774356333   B1=  0.5011472013328712   error= -4.209844243354507\n",
      "4   exp= 4.4   sal= 6.2   B0 =  0.16764015104995514   B1=  0.5180042318809951   error= -3.8311433063918034\n",
      "5   exp= 1.2   sal= 1.7   B0 =  0.168550905820648   B1=  0.5190971376058265   error= -0.9107547706928507\n",
      "5   exp= 1.5   sal= 2.4   B0 =  0.17000370920841862   B1=  0.5212763426874825   error= -1.4528033877706121\n",
      "5   exp= 1.9   sal= 2.3   B0 =  0.17114328044810398   B1=  0.5234415280428847   error= -1.1395712396853646\n",
      "5   exp= 2.2   sal= 3.1   B0 =  0.17292056580596152   B1=  0.5273515558301713   error= -1.7772853578575498\n",
      "5   exp= 2.4   sal= 3.7   B0 =  0.17518200150616314   B1=  0.5327790015106553   error= -2.2614357002016274\n",
      "5   exp= 2.5   sal= 4.2   B0 =  0.17787487200088034   B1=  0.5395111777474483   error= -2.692870494717199\n",
      "5   exp= 2.8   sal= 4.4   B0 =  0.18058636583118662   B1=  0.5471033604723058   error= -2.711493830306265\n",
      "5   exp= 3.1   sal= 6.1   B0 =  0.1848097590478913   B1=  0.5601958794440902   error= -4.223393216704665\n",
      "5   exp= 3.3   sal= 5.4   B0 =  0.18817630288667792   B1=  0.571305474112086   error= -3.3665438387866113\n",
      "5   exp= 3.7   sal= 5.7   B0 =  0.1915742963295765   B1=  0.5838780498508108   error= -3.397993442898604\n",
      "5   exp= 4.2   sal= 6.4   B0 =  0.19533043422387353   B1=  0.5996538290068583   error= -3.756137894297018\n",
      "5   exp= 4.4   sal= 6.2   B0 =  0.19869662694201948   B1=  0.6144650769667005   error= -3.36619271814595\n"
     ]
    },
    {
     "data": {
      "text/plain": [
       "[<matplotlib.lines.Line2D at 0x7f1dbafa8d90>]"
      ]
     },
     "execution_count": 77,
     "metadata": {},
     "output_type": "execute_result"
    },
    {
     "data": {
      "image/png": "[encoded data removed]",
      "text/plain": [
       "<Figure size 432x288 with 1 Axes>"
      ]
     },
     "metadata": {
      "needs_background": "light"
     },
     "output_type": "display_data"
    }
   ],
   "source": [
    "#with learning rate 0.001\n",
    "alpha=0.001\n",
    "b=0\n",
    "beta=0\n",
    "m=[i for i in range(1,61)]\n",
    "err1=[]\n",
    "for i in range(5):\n",
    "    for j in range(12):\n",
    "        pi=b+beta*exp[j]\n",
    "        error = pi-sal[j] \n",
    "        err1.append(error)\n",
    "        b=b-alpha*error \n",
    "        beta=beta-alpha*error*exp[j]\n",
    "        print(i+1, \" \", \"exp=\", exp[j], \" \", \"sal=\", sal[j], \" \" , \"B0 = \", b, \" \", \"B1= \", beta, \" \", \"error=\", error) \n",
    "plt.plot(err1,m, color = 'black', label = 'line') "
   ]
  },
  {
   "cell_type": "code",
   "execution_count": 93,
   "id": "0cc88fc2",
   "metadata": {},
   "outputs": [
    {
     "name": "stdout",
     "output_type": "stream",
     "text": [
      "Final B0 (Scikit-Learn): 0.3805673126179751\n",
      "Final B1 (Scikit-Learn): 1.4332744309269116\n"
     ]
    }
   ],
   "source": [
    "from sklearn.linear_model import SGDRegressor\n",
    "import numpy as np\n",
    "sgd = SGDRegressor(max_iter=60, tol=None)\n",
    "B0_values = []\n",
    "B1_values = []\n",
    "error_values=[]\n",
    "x=x.reshape(-1,1)\n",
    "for iteration in range(60):\n",
    "    sgd.partial_fit(x, y)\n",
    "    B0_sgd = sgd.intercept_[0]\n",
    "    B1_sgd = sgd.coef_[0]\n",
    "    B0_values.append(B0_sgd)\n",
    "    B1_values.append(B1_sgd)\n",
    "    y_pred_sgd = sgd.predict(x)\n",
    "    error_sgd = y_pred_sgd - y\n",
    "    error_values.append(error_sgd)\n",
    "print(\"Final B0 (Scikit-Learn):\", B0_sgd)\n",
    "print(\"Final B1 (Scikit-Learn):\", B1_sgd)"
   ]
  },
  {
   "cell_type": "code",
   "execution_count": 88,
   "id": "e84bc1e1",
   "metadata": {},
   "outputs": [
    {
     "data": {
      "text/plain": [
       "[array([-0.56650468, -1.04612246, -0.65227951, -1.23189729, -1.68497581,\n",
       "        -2.11151507, -2.09113286, -3.57075064, -2.72382916, -2.72998621,\n",
       "        -3.06268251, -2.71576103]),\n",
       " array([-1.22022556e-01, -5.13599036e-01, -2.36767617e-03, -4.93944156e-01,\n",
       "        -8.88328476e-01, -1.28552064e+00, -1.17709712e+00, -2.56867360e+00,\n",
       "        -1.66305792e+00, -1.55182656e+00, -1.73778736e+00, -1.33217168e+00]),\n",
       " array([ 0.09821481, -0.24932304,  0.32062649, -0.12691136, -0.4919366 ,\n",
       "        -0.87444921, -0.72198707, -2.06952492, -1.13455015, -0.96460062,\n",
       "        -1.07716371, -0.64218895]),\n",
       " array([ 0.22247146, -0.10016953,  0.50297582,  0.08033483, -0.26809249,\n",
       "        -0.64230616, -0.46494715, -1.78758813, -0.83601546, -0.63287011,\n",
       "        -0.70393843, -0.25236575]),\n",
       " array([ 0.29576114, -0.01199185,  0.61100416,  0.20325117, -0.13525082,\n",
       "        -0.50450182, -0.31225481, -1.6200078 , -0.65850979, -0.43551377,\n",
       "        -0.48176875, -0.02027075]),\n",
       " array([ 0.34552369,  0.04798545,  0.68460113,  0.28706289, -0.04462927,\n",
       "        -0.41047535, -0.20801359, -1.50555183, -0.53724399, -0.30062831,\n",
       "        -0.32985871,  0.13844913]),\n",
       " array([ 0.38008725,  0.08979129,  0.73606335,  0.34576739,  0.01890342,\n",
       "        -0.34452857, -0.13482452, -1.42512048, -0.45198445, -0.20571239,\n",
       "        -0.22287232,  0.25026371]),\n",
       " array([ 0.40000912,  0.11405132,  0.76610758,  0.38014978,  0.05617791,\n",
       "        -0.30580803, -0.09176583, -1.37772363, -0.4016955 , -0.14963923,\n",
       "        -0.1595689 ,  0.31645923]),\n",
       " array([ 0.40871026,  0.1248544 ,  0.77971325,  0.3958574 ,  0.07328683,\n",
       "        -0.28799846, -0.07185432, -1.35571018, -0.37828075, -0.12342189,\n",
       "        -0.12984832,  0.34758111]),\n",
       " array([ 0.41973181,  0.13843465,  0.79670511,  0.41540796,  0.09454318,\n",
       "        -0.2658892 , -0.04718636, -1.32848351, -0.34934828, -0.09107783,\n",
       "        -0.09323975,  0.38589547]),\n",
       " array([ 0.42432247,  0.14429733,  0.80426382,  0.42423868,  0.10422192,\n",
       "        -0.25578646, -0.03581159, -1.31583673, -0.33585349, -0.075887  ,\n",
       "        -0.0759289 ,  0.40405434]),\n",
       " array([ 0.42529667,  0.14583598,  0.80655505,  0.42709435,  0.10745389,\n",
       "        -0.25236634, -0.03182704, -1.31128773, -0.33092819, -0.07020912,\n",
       "        -0.06931028,  0.41104926]),\n",
       " array([ 0.42686236,  0.1480672 ,  0.80967364,  0.43087848,  0.1116817 ,\n",
       "        -0.24791668, -0.02671185, -1.30550701, -0.32470379, -0.06309734,\n",
       "        -0.06108928,  0.41971394]),\n",
       " array([ 0.42758131,  0.14926746,  0.81151565,  0.4332018 ,  0.1143259 ,\n",
       "        -0.24511205, -0.0234259 , -1.30173975, -0.32061565, -0.05836746,\n",
       "        -0.05555721,  0.42556689]),\n",
       " array([ 0.42944807,  0.15184233,  0.81503468,  0.43742895,  0.11902512,\n",
       "        -0.24017679, -0.01778253, -1.29538827, -0.31379209, -0.05059974,\n",
       "        -0.04660931,  0.43498687]),\n",
       " array([ 0.43151199,  0.15465062,  0.81883547,  0.4419741 ,  0.12406652,\n",
       "        -0.23488727, -0.01174864, -1.28861001, -0.30651758, -0.04233274,\n",
       "        -0.03710169,  0.44499073]),\n",
       " array([ 0.43333443,  0.15716375,  0.82226951,  0.44609883,  0.1286517 ,\n",
       "        -0.23007186, -0.00624254, -1.28241322, -0.29986034, -0.03475459,\n",
       "        -0.02837239,  0.45418049]),\n",
       " array([ 0.43331697,  0.15747238,  0.82301293,  0.44716834,  0.12993861,\n",
       "        -0.22867625, -0.00452084, -1.28036542, -0.29759515, -0.0320546 ,\n",
       "        -0.02512891,  0.45764136]),\n",
       " array([ 0.43057954,  0.15451492,  0.8197621 ,  0.44369749,  0.12632107,\n",
       "        -0.23236713, -0.00843175, -1.28449636, -0.30187277, -0.03662559,\n",
       "        -0.03006662,  0.45255697]),\n",
       " array([ 0.43047117,  0.15468921,  0.82031328,  0.44453132,  0.12734335,\n",
       "        -0.23125063, -0.00703259, -1.28281454, -0.30000251, -0.03437845,\n",
       "        -0.02734838,  0.45546365]),\n",
       " array([ 0.43066761,  0.1552301 ,  0.82131342,  0.44587591,  0.12891757,\n",
       "        -0.2295616 , -0.00499911, -1.28043662, -0.29739496, -0.03131164,\n",
       "        -0.02370749,  0.45933417]),\n",
       " array([ 0.42779594,  0.15209213,  0.81782039,  0.44211658,  0.12498071,\n",
       "        -0.23358722, -0.00929103, -1.28499483, -0.3021307 , -0.03640244,\n",
       "        -0.02924212,  0.45362201]),\n",
       " array([ 0.42931573,  0.15421886,  0.82075637,  0.44565951,  0.12892827,\n",
       "        -0.22943735, -0.00453422, -1.27963108, -0.29636233, -0.02982481,\n",
       "        -0.02165292,  0.46161583]),\n",
       " array([ 0.42839352,  0.15341201,  0.82010333,  0.44512181,  0.12846747,\n",
       "        -0.2298597 , -0.00484121, -1.27982272, -0.29647706, -0.02978575,\n",
       "        -0.0214216 ,  0.46192406]),\n",
       " array([ 0.4288453 ,  0.15424525,  0.82144519,  0.44684515,  0.13044511,\n",
       "        -0.2277549 , -0.00235495, -1.276955  , -0.29335503, -0.02615509,\n",
       "        -0.01715517,  0.4664448 ]),\n",
       " array([ 4.29623294e-01,  1.55451853e-01,  8.23223265e-01,  4.49051824e-01,\n",
       "         1.32937531e-01, -2.25119616e-01,  7.08942663e-04, -1.27346250e+00,\n",
       "        -2.89576792e-01, -2.18053800e-02, -1.20911148e-02,  4.71794591e-01]),\n",
       " array([ 0.42982341,  0.15598386,  0.82419781,  0.45035826,  0.13446523,\n",
       "        -0.22348128,  0.00267918, -1.27116037, -0.28705339, -0.01883945,\n",
       "        -0.00857202,  0.47553495]),\n",
       " array([ 4.27610776e-01,  1.53609389e-01,  8.21607540e-01,  4.47606153e-01,\n",
       "         1.31605229e-01, -2.26395234e-01, -3.96620748e-04, -1.27439801e+00,\n",
       "        -2.90398932e-01, -2.24007816e-02, -1.24030932e-02,  4.71595982e-01]),\n",
       " array([ 0.42543678,  0.15128335,  0.81907878,  0.44492535,  0.12882306,\n",
       "        -0.22922808, -0.00338152, -1.27753495, -0.29363723, -0.02584181,\n",
       "        -0.01609753,  0.46780019]),\n",
       " array([ 0.42368895,  0.14945821,  0.81715056,  0.44291982,  0.12676599,\n",
       "        -0.23131092, -0.00554166, -1.2797724 , -0.29592623, -0.02823388,\n",
       "        -0.01861845,  0.46522772]),\n",
       " array([ 0.42302227,  0.14892945,  0.81680568,  0.44271286,  0.12665097,\n",
       "        -0.23137997, -0.00547279, -1.27956562, -0.2956275 , -0.02775127,\n",
       "        -0.01790598,  0.46603214]),\n",
       " array([ 0.42040655,  0.14606586,  0.81361159,  0.4392709 ,  0.12304377,\n",
       "        -0.2350698 , -0.00941049, -1.28375119, -0.29997832, -0.03243258,\n",
       "        -0.02300041,  0.46077246]),\n",
       " array([ 0.41937642,  0.14509459,  0.81271882,  0.43843699,  0.1222491 ,\n",
       "        -0.23584484, -0.01012667, -1.2844085 , -0.30059639, -0.03297216,\n",
       "        -0.02344188,  0.46037023]),\n",
       " array([ 0.41898807,  0.1448849 ,  0.81274733,  0.43864416,  0.12257538,\n",
       "        -0.23545902, -0.00956219, -1.28366536, -0.29973415, -0.03187171,\n",
       "        -0.02204367,  0.46188755]),\n",
       " array([ 0.41762032,  0.14350246,  0.81134532,  0.43722746,  0.12114889,\n",
       "        -0.2368904 , -0.01100826, -1.28512612, -0.30120469, -0.03336183,\n",
       "        -0.02355826,  0.46036317]),\n",
       " array([ 0.41892519,  0.14531489,  0.81383449,  0.44022419,  0.12448399,\n",
       "        -0.23338611, -0.00699641, -1.28060671, -0.29634691, -0.02782731,\n",
       "        -0.01717781,  0.46708199]),\n",
       " array([ 0.41762876,  0.14401792,  0.81253681,  0.43892598,  0.12318542,\n",
       "        -0.23468486, -0.00829569, -1.28190653, -0.29764709, -0.0291282 ,\n",
       "        -0.01847959,  0.46577985]),\n",
       " array([ 0.41560822,  0.14185007,  0.81017254,  0.43641439,  0.12057562,\n",
       "        -0.23734377, -0.01110192, -1.28486007, -0.30069884, -0.03237637,\n",
       "        -0.02197329,  0.46218794]),\n",
       " array([ 0.41705991,  0.14384009,  0.81288034,  0.43966052,  0.12418064,\n",
       "        -0.2335593 , -0.00677911, -1.27999893, -0.29547881, -0.02643856,\n",
       "        -0.01513826,  0.46938186]),\n",
       " array([ 0.41665882,  0.14360755,  0.81287252,  0.43982126,  0.12445374,\n",
       "        -0.23323001, -0.00628128, -1.27933255, -0.29470006, -0.02543508,\n",
       "        -0.01385386,  0.47077863]),\n",
       " array([ 0.41582949,  0.14286253,  0.81223992,  0.43927296,  0.12396166,\n",
       "        -0.233694  , -0.00666095, -1.27962791, -0.29493922, -0.02556183,\n",
       "        -0.01384009,  0.4708486 ]),\n",
       " array([ 0.41638819,  0.14377606,  0.81362655,  0.44101442,  0.12593966,\n",
       "        -0.23159771, -0.00420984, -1.27682197, -0.29189673, -0.02204623,\n",
       "        -0.00973312,  0.47519213]),\n",
       " array([ 0.41391891,  0.14105846,  0.81057785,  0.43771739,  0.12247709,\n",
       "        -0.23514306, -0.00800352, -1.28086398, -0.29610428, -0.02658489,\n",
       "        -0.01468565,  0.47007404]),\n",
       " array([ 0.41346863,  0.14075591,  0.81047227,  0.43775955,  0.12261773,\n",
       "        -0.23495318, -0.0076659 , -1.28037863, -0.29552044, -0.02580408,\n",
       "        -0.01365862,  0.47119956]),\n",
       " array([ 0.41358402,  0.14113235,  0.81119679,  0.43874512,  0.12377734,\n",
       "        -0.23370655, -0.00615822, -1.27860989, -0.29357767, -0.02351323,\n",
       "        -0.01093268,  0.47409954]),\n",
       " array([ 0.41361435,  0.14140361,  0.81178929,  0.43957855,  0.12477139,\n",
       "        -0.23263219, -0.00484293, -1.27705367, -0.29186083, -0.02147515,\n",
       "        -0.00849305,  0.47669979]),\n",
       " array([ 0.41350568,  0.14150798,  0.81217772,  0.44018003,  0.1255149 ,\n",
       "        -0.23181766, -0.00381536, -1.27581305, -0.29047818, -0.01980844,\n",
       "        -0.00647127,  0.4788636 ]),\n",
       " array([ 0.41308818,  0.14124373,  0.81211778,  0.44027332,  0.12571035,\n",
       "        -0.23157114, -0.00341559, -1.27526005, -0.28982302, -0.01894897,\n",
       "        -0.0053564 ,  0.48008063]),\n",
       " array([ 0.412124  ,  0.14032334,  0.8112558 ,  0.43945515,  0.12492138,\n",
       "        -0.23234551, -0.00414616, -1.27594681, -0.29048058, -0.01954812,\n",
       "        -0.00588255,  0.47958368]),\n",
       " array([ 0.41074095,  0.13889668,  0.80977098,  0.4379267 ,  0.12336385,\n",
       "        -0.23391758, -0.00576185, -1.27760613, -0.29216898, -0.02129468,\n",
       "        -0.00770181,  0.47773534]),\n",
       " array([ 0.40990329,  0.13812852,  0.8090955 ,  0.43732073,  0.12280422,\n",
       "        -0.23445404, -0.0062288 , -1.27800357, -0.29252008, -0.02155311,\n",
       "        -0.00784439,  0.4776391 ]),\n",
       " array([ 0.40998231,  0.13845299,  0.80974724,  0.43821792,  0.12386504,\n",
       "        -0.2333114 , -0.00484072, -1.27637003, -0.29072291, -0.01942867,\n",
       "        -0.00531086,  0.48033626]),\n",
       " array([ 0.40946412,  0.13806388,  0.80953023,  0.43812999,  0.12386316,\n",
       "        -0.23327025, -0.00467049, -1.27607072, -0.29033755, -0.0188712 ,\n",
       "        -0.00453826,  0.48119491]),\n",
       " array([ 0.40891045,  0.13762578,  0.80924623,  0.43796157,  0.12377179,\n",
       "        -0.23332309, -0.00460776, -1.27589242, -0.29008219, -0.01846175,\n",
       "        -0.00393618,  0.48187404]),\n",
       " array([ 0.40743782,  0.13608178,  0.80760706,  0.43625102,  0.12201366,\n",
       "        -0.23510502, -0.00646106, -1.2778171 , -0.29205447, -0.02052919,\n",
       "        -0.00612259,  0.47964005]),\n",
       " array([ 0.40756778,  0.13645233,  0.80829841,  0.43718296,  0.123106  ,\n",
       "        -0.23393248, -0.00504793, -1.27616337, -0.29024034, -0.01839426,\n",
       "        -0.00358667,  0.48233636]),\n",
       " array([ 0.40751614,  0.13660216,  0.80871685,  0.43780287,  0.12386021,\n",
       "        -0.23311112, -0.0040251 , -1.27493908, -0.28888174, -0.01676705,\n",
       "        -0.00162369,  0.48443366]),\n",
       " array([ 4.07730267e-01,  1.37077090e-01,  8.09539520e-01,  4.38886343e-01,\n",
       "         1.25117559e-01, -2.31766834e-01, -2.42001055e-03, -1.27307319e+00,\n",
       "        -2.86841972e-01, -1.43795415e-02,  1.19849686e-03,  4.87429712e-01]),\n",
       " array([ 0.4072073 ,  0.1366639 ,  0.80927269,  0.43872928,  0.12503367,\n",
       "        -0.23181413, -0.00235754, -1.27290094, -0.28659655, -0.01398776,\n",
       "         0.00177323,  0.48807762]),\n",
       " array([ 0.404674  ,  0.13384754,  0.80607894,  0.43525248,  0.12136818,\n",
       "        -0.23557397, -0.00640042, -1.27722688, -0.29111118, -0.01887979,\n",
       "        -0.00359054,  0.48252515])]"
      ]
     },
     "execution_count": 88,
     "metadata": {},
     "output_type": "execute_result"
    }
   ],
   "source": [
    "error_values"
   ]
  },
  {
   "cell_type": "code",
   "execution_count": 94,
   "id": "89f084f7",
   "metadata": {},
   "outputs": [
    {
     "data": {
      "text/plain": [
       "[<matplotlib.lines.Line2D at 0x7f1dba888520>,\n",
       " <matplotlib.lines.Line2D at 0x7f1dba888580>,\n",
       " <matplotlib.lines.Line2D at 0x7f1dba8886a0>,\n",
       " <matplotlib.lines.Line2D at 0x7f1dba8887c0>,\n",
       " <matplotlib.lines.Line2D at 0x7f1dba8888e0>,\n",
       " <matplotlib.lines.Line2D at 0x7f1dba888a00>,\n",
       " <matplotlib.lines.Line2D at 0x7f1dba888b20>,\n",
       " <matplotlib.lines.Line2D at 0x7f1dba888c40>,\n",
       " <matplotlib.lines.Line2D at 0x7f1dba888d60>,\n",
       " <matplotlib.lines.Line2D at 0x7f1dba888e80>,\n",
       " <matplotlib.lines.Line2D at 0x7f1dba888fa0>,\n",
       " <matplotlib.lines.Line2D at 0x7f1dba888550>]"
      ]
     },
     "execution_count": 94,
     "metadata": {},
     "output_type": "execute_result"
    },
    {
     "data": {
      "image/png": "[encoded data removed]",
      "text/plain": [
       "<Figure size 432x288 with 1 Axes>"
      ]
     },
     "metadata": {
      "needs_background": "light"
     },
     "output_type": "display_data"
    }
   ],
   "source": [
    "#scikit learn\n",
    "plt.plot(B1_values,error_values)"
   ]
  },
  {
   "cell_type": "code",
   "execution_count": 98,
   "id": "ff595353",
   "metadata": {},
   "outputs": [
    {
     "data": {
      "text/plain": [
       "[<matplotlib.lines.Line2D at 0x7f1dba9d2ce0>]"
      ]
     },
     "execution_count": 98,
     "metadata": {},
     "output_type": "execute_result"
    },
    {
     "data": {
      "image/png": "[encoded data removed]",
      "text/plain": [
       "<Figure size 432x288 with 1 Axes>"
      ]
     },
     "metadata": {
      "needs_background": "light"
     },
     "output_type": "display_data"
    }
   ],
   "source": [
    "#manual approach\n",
    "plt.plot(betavalues,err12)"
   ]
  },
  {
   "cell_type": "code",
   "execution_count": null,
   "id": "d14b1acd",
   "metadata": {},
   "outputs": [],
   "source": []
  }
 ],
 "metadata": {
  "kernelspec": {
   "display_name": "Python 3 (ipykernel)",
   "language": "python",
   "name": "python3"
  },
  "language_info": {
   "codemirror_mode": {
    "name": "ipython",
    "version": 3
   },
   "file_extension": ".py",
   "mimetype": "text/x-python",
   "name": "python",
   "nbconvert_exporter": "python",
   "pygments_lexer": "ipython3",
   "version": "3.10.12"
  }
 },
 "nbformat": 4,
 "nbformat_minor": 5
}
